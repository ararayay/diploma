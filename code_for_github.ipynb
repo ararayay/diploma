{
 "cells": [
  {
   "cell_type": "code",
   "execution_count": null,
   "id": "e2cbbf27",
   "metadata": {},
   "outputs": [],
   "source": [
    "# Для машинного обучения\n",
    "pip install transformers\n",
    "pip install torch\n",
    "\n",
    "# Для анализа\n",
    "pip install seaborn\n",
    "pip install statsmodels"
   ]
  },
  {
   "cell_type": "code",
   "execution_count": 1,
   "id": "51b58782",
   "metadata": {},
   "outputs": [],
   "source": [
    "# Для сбора\n",
    "import requests\n",
    "import json\n",
    "import random\n",
    "import time"
   ]
  },
  {
   "cell_type": "code",
   "execution_count": 2,
   "id": "1214f693",
   "metadata": {},
   "outputs": [],
   "source": [
    "# Для машинного обучения\n",
    "import torch"
   ]
  },
  {
   "cell_type": "code",
   "execution_count": 2,
   "id": "73fc4018",
   "metadata": {},
   "outputs": [],
   "source": [
    "# Для анализа\n",
    "import csv\n",
    "import numpy as np\n",
    "import pandas as pd\n",
    "import seaborn as sns\n",
    "import matplotlib.pyplot as plt\n",
    "import statsmodels.api as sm\n",
    "import scipy.stats as stats"
   ]
  },
  {
   "cell_type": "code",
   "execution_count": null,
   "id": "b2a11be9",
   "metadata": {},
   "outputs": [],
   "source": [
    "# Функция - информация о продуктах категории\n",
    "def get_products(shardKey, query, rawQuery):\n",
    "    headers = {\n",
    "        'Host': 'catalog.wb.ru',\n",
    "        'Connection': 'close',\n",
    "        # 'Accept-Encoding': 'gzip, deflate',\n",
    "        'User-Agent': 'okhttp/4.10.0',\n",
    "    }\n",
    "\n",
    "    response = requests.get(\n",
    "        f'SOME_API_LINK_FOR_SITE_{shardKey}/{query}&{rawQuery}',\n",
    "        headers=headers,\n",
    "        verify=False,\n",
    "    )    \n",
    "    return response"
   ]
  },
  {
   "cell_type": "code",
   "execution_count": null,
   "id": "10c831c3",
   "metadata": {},
   "outputs": [],
   "source": [
    "# Функция - информация о количестве продаж продукта\n",
    "def show_buys(product_id):\n",
    "    headers = {\n",
    "        'Host': 'Site_Host',\n",
    "        'Connection': 'Keep-Alive',\n",
    "        # 'Accept-Encoding': 'gzip, deflate',\n",
    "        'User-Agent': 'okhttp/4.10.0',\n",
    "    }\n",
    "\n",
    "    params = {'nm': product_id}\n",
    "\n",
    "    response = requests.get('SOME_API_LINK_FOR_SITE_', params=params, headers=headers, verify=False)\n",
    "    return response.json()[0][\"qnt\"]"
   ]
  },
  {
   "cell_type": "code",
   "execution_count": 4,
   "id": "f2347e3e",
   "metadata": {},
   "outputs": [],
   "source": [
    "# Функция - информация об отзывах продукта\n",
    "def get_about_product(root_id):\n",
    "    headers = {\n",
    "        'Host': 'Site_Host',\n",
    "        'Connection': 'close',\n",
    "        # 'Accept-Encoding': 'gzip, deflate',\n",
    "        'User-Agent': 'okhttp/4.10.0',\n",
    "    }\n",
    "\n",
    "    response = requests.get(f'SOME_API_LINK_FOR_SITE_{root_id}', headers=headers, verify=False)\n",
    "    return response"
   ]
  },
  {
   "cell_type": "code",
   "execution_count": null,
   "id": "dfa6b56d",
   "metadata": {},
   "outputs": [],
   "source": [
    "all_categories = json.load(open(\"all_categories.json\", encoding=\"utf-8\"))"
   ]
  },
  {
   "cell_type": "code",
   "execution_count": null,
   "id": "cf834729",
   "metadata": {},
   "outputs": [],
   "source": [
    "# Запись необходимых для функции get_products() параметров и названия категорий и подкатегорий\n",
    "parameters_list = []\n",
    "for category in all_categories['data']['catalog']:\n",
    "    category_name = category['name']\n",
    "    if 'childNodes' in category:\n",
    "        for subcategory in category['childNodes']:\n",
    "            subcategory_name = subcategory['name']\n",
    "            if \"shardKey\" in subcategory and \"query\" in subcategory and \"rawQuery\" in subcategory:\n",
    "                parameters_list.append({\"category_name\": category_name,\n",
    "                                        \"subcategory_name\": subcategory_name,\n",
    "                                        \"shardKey\": subcategory[\"shardKey\"],\n",
    "                                        \"query\": subcategory[\"query\"],\n",
    "                                        \"rawQuery\": subcategory[\"rawQuery\"]})\n",
    "    else:\n",
    "        if \"shardKey\" in category and \"query\" in category and \"rawQuery\" in category:\n",
    "            parameters_list.append({\"category_name\": category_name,\n",
    "                                    \"shardKey\": category[\"shardKey\"],\n",
    "                                    \"query\": category[\"query\"],\n",
    "                                    \"rawQuery\": category[\"rawQuery\"]})"
   ]
  },
  {
   "cell_type": "code",
   "execution_count": null,
   "id": "13a7953a",
   "metadata": {},
   "outputs": [],
   "source": [
    "# Выгрузка информации о продуктах\n",
    "product_number = 0\n",
    "while j < len(parameters_list):\n",
    "    shardKey = parameters_list[j][\"shardKey\"]\n",
    "    query = parameters_list[j][\"query\"]\n",
    "    rawQuery = parameters_list[j][\"rawQuery\"]\n",
    "    print(\"=\"*15)\n",
    "    print(f\"{j}) Отправка запроса\")\n",
    "    time.sleep(1)\n",
    "    products_list = get_products(shardKey, query, rawQuery).json()['data']['products']\n",
    "    \n",
    "    for i in range(len(products_list)):\n",
    "        data[str(product_number)] = products_list[i]\n",
    "        if \"category_name\" in parameters_list[i]:\n",
    "            data[str(product_number)][\"category_name\"] = parameters_list[i][\"category_name\"]\n",
    "        if \"subcategory_name\" in parameters_list[i]:\n",
    "            data[str(product_number)][\"subcategory_name\"] = parameters_list[i][\"subcategory_name\"]\n",
    "        product_number += 1\n",
    "    \n",
    "    j += 1"
   ]
  },
  {
   "cell_type": "code",
   "execution_count": null,
   "id": "e82a06ce",
   "metadata": {},
   "outputs": [],
   "source": [
    "# Всего получилось продуктов\n",
    "print(len(data))\n",
    "print(product_number)\n",
    "print(j)"
   ]
  },
  {
   "cell_type": "code",
   "execution_count": null,
   "id": "300f4aca",
   "metadata": {},
   "outputs": [],
   "source": [
    "unwanted = [\"__sort\", \"ksort\", \"time1\", \"time2\", \"dist\", \"kindId\", \"subjectId\", \"subjectParentId\", \"brandId\",\n",
    "            \"siteBrandId\", \"supplierId\", \"logisticsCost\", \"saleConditions\", \"panelPromoId\", \"promoTextCat\", \"volume\", \"colors\",\n",
    "            \"sizes\", \"diffPrice\", \"pics\", \"isNew\", \"isAdult\"]\n",
    "\n",
    "for product_number in range(len(data)):\n",
    "    for key in unwanted:\n",
    "        data[str(product_number)].pop(key, None)"
   ]
  },
  {
   "cell_type": "code",
   "execution_count": null,
   "id": "22a4a9d2",
   "metadata": {},
   "outputs": [],
   "source": [
    "while number < len(data):\n",
    "    time.sleep(1)\n",
    "    data[str(number)][\"sold_quantity\"] = show_buys(data[str(number)][\"id\"])\n",
    "    number += 1"
   ]
  },
  {
   "cell_type": "code",
   "execution_count": 5,
   "id": "b3900246",
   "metadata": {},
   "outputs": [
    {
     "name": "stdout",
     "output_type": "stream",
     "text": [
      "Script started\n"
     ]
    },
    {
     "name": "stderr",
     "output_type": "stream",
     "text": [
      "c:\\users\\rayak\\appdata\\local\\programs\\python\\python39\\lib\\site-packages\\tqdm\\auto.py:22: TqdmWarning: IProgress not found. Please update jupyter and ipywidgets. See https://ipywidgets.readthedocs.io/en/stable/user_install.html\n",
      "  from .autonotebook import tqdm as notebook_tqdm\n"
     ]
    },
    {
     "name": "stdout",
     "output_type": "stream",
     "text": [
      "Libraries was upload\n",
      "Model was upload\n"
     ]
    }
   ],
   "source": [
    "# Загрузка модели машинного обучения\n",
    "print(\"Script started\")\n",
    "from transformers import AutoModelForSequenceClassification\n",
    "from transformers import BertTokenizerFast\n",
    "print(\"Libraries was upload\")\n",
    "global tokenizer\n",
    "import os\n",
    "tokenizer = BertTokenizerFast.from_pretrained('blanchefort/rubert-base-cased-sentiment')\n",
    "global model\n",
    "model = AutoModelForSequenceClassification.from_pretrained('blanchefort/rubert-base-cased-sentiment', return_dict=True)\n",
    "print(\"Model was upload\")"
   ]
  },
  {
   "cell_type": "code",
   "execution_count": 6,
   "id": "cc8f1ee5",
   "metadata": {},
   "outputs": [],
   "source": [
    "# Функция анализа на тональность\n",
    "def predict_emotion(text):\n",
    "    inputs = tokenizer(text, max_length=512, padding=True, truncation=True, return_tensors='pt')\n",
    "    outputs = model(**inputs)\n",
    "    response = torch.nn.functional.softmax(outputs.logits, dim=1)\n",
    "    stat = response\n",
    "    response = torch.argmax(response, dim=1).numpy()\n",
    "    stat = list(stat[0])\n",
    "\n",
    "    response = list(response)\n",
    "    if 0 in response:\n",
    "        response = \"Нейтрально\"\n",
    "    elif 1 in response:\n",
    "        response = \"Положительно\"\n",
    "    elif 2 in response:\n",
    "        response = \"Негативно\"\n",
    "\n",
    "    accuracy = None\n",
    "    if response == \"Негативно\":\n",
    "        accuracy = round(stat[2].detach().numpy() * 100, 2)\n",
    "    elif response == \"Положительно\":\n",
    "        accuracy = round(stat[1].detach().numpy() * 100, 2)\n",
    "    elif response == \"Нейтрально\":\n",
    "        accuracy = round(stat[0].detach().numpy() * 100, 2)\n",
    "    \n",
    "    if accuracy >= 65: \n",
    "        return response\n",
    "    else:\n",
    "        return \"Нейтрально\""
   ]
  },
  {
   "cell_type": "code",
   "execution_count": 164,
   "id": "a1a1cbdf",
   "metadata": {},
   "outputs": [
    {
     "name": "stdout",
     "output_type": "stream",
     "text": [
      "===============\n",
      "46000) Отправка запроса на отзывы.\n"
     ]
    },
    {
     "name": "stderr",
     "output_type": "stream",
     "text": [
      "c:\\users\\rayak\\appdata\\local\\programs\\python\\python39\\lib\\site-packages\\urllib3\\connectionpool.py:1013: InsecureRequestWarning: Unverified HTTPS request is being made to host 'feedbacks2.wb.ru'. Adding certificate verification is strongly advised. See: https://urllib3.readthedocs.io/en/latest/advanced-usage.html#ssl-warnings\n",
      "  warnings.warn(\n",
      "c:\\users\\rayak\\appdata\\local\\programs\\python\\python39\\lib\\site-packages\\urllib3\\connectionpool.py:1013: InsecureRequestWarning: Unverified HTTPS request is being made to host 'feedbacks2.wb.ru'. Adding certificate verification is strongly advised. See: https://urllib3.readthedocs.io/en/latest/advanced-usage.html#ssl-warnings\n",
      "  warnings.warn(\n"
     ]
    },
    {
     "name": "stdout",
     "output_type": "stream",
     "text": [
      "Отзывов нет\n",
      "===============\n",
      "46001) Отправка запроса на отзывы.\n",
      "Отзывов нет\n",
      "===============\n",
      "46002) Отправка запроса на отзывы.\n"
     ]
    },
    {
     "name": "stderr",
     "output_type": "stream",
     "text": [
      "c:\\users\\rayak\\appdata\\local\\programs\\python\\python39\\lib\\site-packages\\urllib3\\connectionpool.py:1013: InsecureRequestWarning: Unverified HTTPS request is being made to host 'feedbacks2.wb.ru'. Adding certificate verification is strongly advised. See: https://urllib3.readthedocs.io/en/latest/advanced-usage.html#ssl-warnings\n",
      "  warnings.warn(\n",
      "c:\\users\\rayak\\appdata\\local\\programs\\python\\python39\\lib\\site-packages\\urllib3\\connectionpool.py:1013: InsecureRequestWarning: Unverified HTTPS request is being made to host 'feedbacks2.wb.ru'. Adding certificate verification is strongly advised. See: https://urllib3.readthedocs.io/en/latest/advanced-usage.html#ssl-warnings\n",
      "  warnings.warn(\n"
     ]
    },
    {
     "name": "stdout",
     "output_type": "stream",
     "text": [
      "Отзывов нет\n",
      "===============\n",
      "46003) Отправка запроса на отзывы.\n",
      "Начинаем ML\n",
      "Записали тональность\n",
      "===============\n",
      "46004) Отправка запроса на отзывы.\n",
      "Отзывов нет\n",
      "===============\n",
      "46005) Отправка запроса на отзывы.\n"
     ]
    },
    {
     "name": "stderr",
     "output_type": "stream",
     "text": [
      "c:\\users\\rayak\\appdata\\local\\programs\\python\\python39\\lib\\site-packages\\urllib3\\connectionpool.py:1013: InsecureRequestWarning: Unverified HTTPS request is being made to host 'feedbacks2.wb.ru'. Adding certificate verification is strongly advised. See: https://urllib3.readthedocs.io/en/latest/advanced-usage.html#ssl-warnings\n",
      "  warnings.warn(\n",
      "c:\\users\\rayak\\appdata\\local\\programs\\python\\python39\\lib\\site-packages\\urllib3\\connectionpool.py:1013: InsecureRequestWarning: Unverified HTTPS request is being made to host 'feedbacks2.wb.ru'. Adding certificate verification is strongly advised. See: https://urllib3.readthedocs.io/en/latest/advanced-usage.html#ssl-warnings\n",
      "  warnings.warn(\n"
     ]
    },
    {
     "name": "stdout",
     "output_type": "stream",
     "text": [
      "Отзывов нет\n",
      "===============\n",
      "46006) Отправка запроса на отзывы.\n",
      "Отзывов нет\n",
      "===============\n",
      "46007) Отправка запроса на отзывы.\n"
     ]
    },
    {
     "name": "stderr",
     "output_type": "stream",
     "text": [
      "c:\\users\\rayak\\appdata\\local\\programs\\python\\python39\\lib\\site-packages\\urllib3\\connectionpool.py:1013: InsecureRequestWarning: Unverified HTTPS request is being made to host 'feedbacks2.wb.ru'. Adding certificate verification is strongly advised. See: https://urllib3.readthedocs.io/en/latest/advanced-usage.html#ssl-warnings\n",
      "  warnings.warn(\n",
      "c:\\users\\rayak\\appdata\\local\\programs\\python\\python39\\lib\\site-packages\\urllib3\\connectionpool.py:1013: InsecureRequestWarning: Unverified HTTPS request is being made to host 'feedbacks2.wb.ru'. Adding certificate verification is strongly advised. See: https://urllib3.readthedocs.io/en/latest/advanced-usage.html#ssl-warnings\n",
      "  warnings.warn(\n"
     ]
    },
    {
     "name": "stdout",
     "output_type": "stream",
     "text": [
      "Отзывов нет\n",
      "===============\n",
      "46008) Отправка запроса на отзывы.\n",
      "Отзывов нет\n",
      "===============\n",
      "46009) Отправка запроса на отзывы.\n"
     ]
    },
    {
     "name": "stderr",
     "output_type": "stream",
     "text": [
      "c:\\users\\rayak\\appdata\\local\\programs\\python\\python39\\lib\\site-packages\\urllib3\\connectionpool.py:1013: InsecureRequestWarning: Unverified HTTPS request is being made to host 'feedbacks2.wb.ru'. Adding certificate verification is strongly advised. See: https://urllib3.readthedocs.io/en/latest/advanced-usage.html#ssl-warnings\n",
      "  warnings.warn(\n",
      "c:\\users\\rayak\\appdata\\local\\programs\\python\\python39\\lib\\site-packages\\urllib3\\connectionpool.py:1013: InsecureRequestWarning: Unverified HTTPS request is being made to host 'feedbacks2.wb.ru'. Adding certificate verification is strongly advised. See: https://urllib3.readthedocs.io/en/latest/advanced-usage.html#ssl-warnings\n",
      "  warnings.warn(\n"
     ]
    },
    {
     "name": "stdout",
     "output_type": "stream",
     "text": [
      "Отзывов нет\n",
      "===============\n",
      "46010) Отправка запроса на отзывы.\n",
      "Отзывов нет\n",
      "===============\n",
      "46011) Отправка запроса на отзывы.\n"
     ]
    },
    {
     "name": "stderr",
     "output_type": "stream",
     "text": [
      "c:\\users\\rayak\\appdata\\local\\programs\\python\\python39\\lib\\site-packages\\urllib3\\connectionpool.py:1013: InsecureRequestWarning: Unverified HTTPS request is being made to host 'feedbacks2.wb.ru'. Adding certificate verification is strongly advised. See: https://urllib3.readthedocs.io/en/latest/advanced-usage.html#ssl-warnings\n",
      "  warnings.warn(\n",
      "c:\\users\\rayak\\appdata\\local\\programs\\python\\python39\\lib\\site-packages\\urllib3\\connectionpool.py:1013: InsecureRequestWarning: Unverified HTTPS request is being made to host 'feedbacks2.wb.ru'. Adding certificate verification is strongly advised. See: https://urllib3.readthedocs.io/en/latest/advanced-usage.html#ssl-warnings\n",
      "  warnings.warn(\n"
     ]
    },
    {
     "name": "stdout",
     "output_type": "stream",
     "text": [
      "Начинаем ML\n",
      "Записали тональность\n",
      "===============\n",
      "46012) Отправка запроса на отзывы.\n",
      "Отзывов нет\n",
      "===============\n",
      "46013) Отправка запроса на отзывы.\n"
     ]
    },
    {
     "name": "stderr",
     "output_type": "stream",
     "text": [
      "c:\\users\\rayak\\appdata\\local\\programs\\python\\python39\\lib\\site-packages\\urllib3\\connectionpool.py:1013: InsecureRequestWarning: Unverified HTTPS request is being made to host 'feedbacks2.wb.ru'. Adding certificate verification is strongly advised. See: https://urllib3.readthedocs.io/en/latest/advanced-usage.html#ssl-warnings\n",
      "  warnings.warn(\n",
      "c:\\users\\rayak\\appdata\\local\\programs\\python\\python39\\lib\\site-packages\\urllib3\\connectionpool.py:1013: InsecureRequestWarning: Unverified HTTPS request is being made to host 'feedbacks2.wb.ru'. Adding certificate verification is strongly advised. See: https://urllib3.readthedocs.io/en/latest/advanced-usage.html#ssl-warnings\n",
      "  warnings.warn(\n"
     ]
    },
    {
     "name": "stdout",
     "output_type": "stream",
     "text": [
      "Начинаем ML\n",
      "Записали тональность\n",
      "===============\n",
      "46014) Отправка запроса на отзывы.\n"
     ]
    },
    {
     "name": "stderr",
     "output_type": "stream",
     "text": [
      "c:\\users\\rayak\\appdata\\local\\programs\\python\\python39\\lib\\site-packages\\urllib3\\connectionpool.py:1013: InsecureRequestWarning: Unverified HTTPS request is being made to host 'feedbacks2.wb.ru'. Adding certificate verification is strongly advised. See: https://urllib3.readthedocs.io/en/latest/advanced-usage.html#ssl-warnings\n",
      "  warnings.warn(\n"
     ]
    },
    {
     "name": "stdout",
     "output_type": "stream",
     "text": [
      "Начинаем ML\n",
      "Записали тональность\n",
      "===============\n",
      "46015) Отправка запроса на отзывы.\n"
     ]
    },
    {
     "name": "stderr",
     "output_type": "stream",
     "text": [
      "c:\\users\\rayak\\appdata\\local\\programs\\python\\python39\\lib\\site-packages\\urllib3\\connectionpool.py:1013: InsecureRequestWarning: Unverified HTTPS request is being made to host 'feedbacks2.wb.ru'. Adding certificate verification is strongly advised. See: https://urllib3.readthedocs.io/en/latest/advanced-usage.html#ssl-warnings\n",
      "  warnings.warn(\n",
      "c:\\users\\rayak\\appdata\\local\\programs\\python\\python39\\lib\\site-packages\\urllib3\\connectionpool.py:1013: InsecureRequestWarning: Unverified HTTPS request is being made to host 'feedbacks2.wb.ru'. Adding certificate verification is strongly advised. See: https://urllib3.readthedocs.io/en/latest/advanced-usage.html#ssl-warnings\n",
      "  warnings.warn(\n"
     ]
    },
    {
     "name": "stdout",
     "output_type": "stream",
     "text": [
      "Отзывов нет\n",
      "===============\n",
      "46016) Отправка запроса на отзывы.\n",
      "Отзывов нет\n",
      "===============\n",
      "46017) Отправка запроса на отзывы.\n"
     ]
    },
    {
     "name": "stderr",
     "output_type": "stream",
     "text": [
      "c:\\users\\rayak\\appdata\\local\\programs\\python\\python39\\lib\\site-packages\\urllib3\\connectionpool.py:1013: InsecureRequestWarning: Unverified HTTPS request is being made to host 'feedbacks2.wb.ru'. Adding certificate verification is strongly advised. See: https://urllib3.readthedocs.io/en/latest/advanced-usage.html#ssl-warnings\n",
      "  warnings.warn(\n",
      "c:\\users\\rayak\\appdata\\local\\programs\\python\\python39\\lib\\site-packages\\urllib3\\connectionpool.py:1013: InsecureRequestWarning: Unverified HTTPS request is being made to host 'feedbacks2.wb.ru'. Adding certificate verification is strongly advised. See: https://urllib3.readthedocs.io/en/latest/advanced-usage.html#ssl-warnings\n",
      "  warnings.warn(\n"
     ]
    },
    {
     "name": "stdout",
     "output_type": "stream",
     "text": [
      "Отзывов нет\n",
      "===============\n",
      "46018) Отправка запроса на отзывы.\n",
      "Начинаем ML\n",
      "Записали тональность\n",
      "===============\n",
      "46019) Отправка запроса на отзывы.\n",
      "Начинаем ML\n"
     ]
    },
    {
     "name": "stderr",
     "output_type": "stream",
     "text": [
      "c:\\users\\rayak\\appdata\\local\\programs\\python\\python39\\lib\\site-packages\\urllib3\\connectionpool.py:1013: InsecureRequestWarning: Unverified HTTPS request is being made to host 'feedbacks2.wb.ru'. Adding certificate verification is strongly advised. See: https://urllib3.readthedocs.io/en/latest/advanced-usage.html#ssl-warnings\n",
      "  warnings.warn(\n"
     ]
    },
    {
     "name": "stdout",
     "output_type": "stream",
     "text": [
      "Записали тональность\n",
      "===============\n",
      "46020) Отправка запроса на отзывы.\n",
      "Начинаем ML\n"
     ]
    },
    {
     "name": "stderr",
     "output_type": "stream",
     "text": [
      "c:\\users\\rayak\\appdata\\local\\programs\\python\\python39\\lib\\site-packages\\urllib3\\connectionpool.py:1013: InsecureRequestWarning: Unverified HTTPS request is being made to host 'feedbacks2.wb.ru'. Adding certificate verification is strongly advised. See: https://urllib3.readthedocs.io/en/latest/advanced-usage.html#ssl-warnings\n",
      "  warnings.warn(\n"
     ]
    },
    {
     "name": "stdout",
     "output_type": "stream",
     "text": [
      "Записали тональность\n",
      "===============\n",
      "46021) Отправка запроса на отзывы.\n",
      "Начинаем ML\n"
     ]
    },
    {
     "name": "stderr",
     "output_type": "stream",
     "text": [
      "c:\\users\\rayak\\appdata\\local\\programs\\python\\python39\\lib\\site-packages\\urllib3\\connectionpool.py:1013: InsecureRequestWarning: Unverified HTTPS request is being made to host 'feedbacks2.wb.ru'. Adding certificate verification is strongly advised. See: https://urllib3.readthedocs.io/en/latest/advanced-usage.html#ssl-warnings\n",
      "  warnings.warn(\n"
     ]
    },
    {
     "name": "stdout",
     "output_type": "stream",
     "text": [
      "Записали тональность\n",
      "===============\n",
      "46022) Отправка запроса на отзывы.\n",
      "Начинаем ML\n"
     ]
    },
    {
     "name": "stderr",
     "output_type": "stream",
     "text": [
      "c:\\users\\rayak\\appdata\\local\\programs\\python\\python39\\lib\\site-packages\\urllib3\\connectionpool.py:1013: InsecureRequestWarning: Unverified HTTPS request is being made to host 'feedbacks2.wb.ru'. Adding certificate verification is strongly advised. See: https://urllib3.readthedocs.io/en/latest/advanced-usage.html#ssl-warnings\n",
      "  warnings.warn(\n"
     ]
    },
    {
     "name": "stdout",
     "output_type": "stream",
     "text": [
      "Записали тональность\n",
      "===============\n",
      "46023) Отправка запроса на отзывы.\n",
      "Отзывов нет\n",
      "===============\n",
      "46024) Отправка запроса на отзывы.\n"
     ]
    },
    {
     "name": "stderr",
     "output_type": "stream",
     "text": [
      "c:\\users\\rayak\\appdata\\local\\programs\\python\\python39\\lib\\site-packages\\urllib3\\connectionpool.py:1013: InsecureRequestWarning: Unverified HTTPS request is being made to host 'feedbacks2.wb.ru'. Adding certificate verification is strongly advised. See: https://urllib3.readthedocs.io/en/latest/advanced-usage.html#ssl-warnings\n",
      "  warnings.warn(\n",
      "c:\\users\\rayak\\appdata\\local\\programs\\python\\python39\\lib\\site-packages\\urllib3\\connectionpool.py:1013: InsecureRequestWarning: Unverified HTTPS request is being made to host 'feedbacks2.wb.ru'. Adding certificate verification is strongly advised. See: https://urllib3.readthedocs.io/en/latest/advanced-usage.html#ssl-warnings\n",
      "  warnings.warn(\n"
     ]
    },
    {
     "name": "stdout",
     "output_type": "stream",
     "text": [
      "Отзывов нет\n",
      "===============\n",
      "46025) Отправка запроса на отзывы.\n"
     ]
    },
    {
     "name": "stderr",
     "output_type": "stream",
     "text": [
      "c:\\users\\rayak\\appdata\\local\\programs\\python\\python39\\lib\\site-packages\\urllib3\\connectionpool.py:1013: InsecureRequestWarning: Unverified HTTPS request is being made to host 'feedbacks2.wb.ru'. Adding certificate verification is strongly advised. See: https://urllib3.readthedocs.io/en/latest/advanced-usage.html#ssl-warnings\n",
      "  warnings.warn(\n",
      "c:\\users\\rayak\\appdata\\local\\programs\\python\\python39\\lib\\site-packages\\urllib3\\connectionpool.py:1013: InsecureRequestWarning: Unverified HTTPS request is being made to host 'feedbacks2.wb.ru'. Adding certificate verification is strongly advised. See: https://urllib3.readthedocs.io/en/latest/advanced-usage.html#ssl-warnings\n",
      "  warnings.warn(\n"
     ]
    },
    {
     "name": "stdout",
     "output_type": "stream",
     "text": [
      "Отзывов нет\n",
      "===============\n",
      "46026) Отправка запроса на отзывы.\n",
      "Отзывов нет\n",
      "===============\n",
      "46027) Отправка запроса на отзывы.\n"
     ]
    },
    {
     "name": "stderr",
     "output_type": "stream",
     "text": [
      "c:\\users\\rayak\\appdata\\local\\programs\\python\\python39\\lib\\site-packages\\urllib3\\connectionpool.py:1013: InsecureRequestWarning: Unverified HTTPS request is being made to host 'feedbacks2.wb.ru'. Adding certificate verification is strongly advised. See: https://urllib3.readthedocs.io/en/latest/advanced-usage.html#ssl-warnings\n",
      "  warnings.warn(\n",
      "c:\\users\\rayak\\appdata\\local\\programs\\python\\python39\\lib\\site-packages\\urllib3\\connectionpool.py:1013: InsecureRequestWarning: Unverified HTTPS request is being made to host 'feedbacks2.wb.ru'. Adding certificate verification is strongly advised. See: https://urllib3.readthedocs.io/en/latest/advanced-usage.html#ssl-warnings\n",
      "  warnings.warn(\n"
     ]
    },
    {
     "name": "stdout",
     "output_type": "stream",
     "text": [
      "Отзывов нет\n",
      "===============\n",
      "46028) Отправка запроса на отзывы.\n",
      "Отзывов нет\n",
      "===============\n",
      "46029) Отправка запроса на отзывы.\n"
     ]
    },
    {
     "name": "stderr",
     "output_type": "stream",
     "text": [
      "c:\\users\\rayak\\appdata\\local\\programs\\python\\python39\\lib\\site-packages\\urllib3\\connectionpool.py:1013: InsecureRequestWarning: Unverified HTTPS request is being made to host 'feedbacks2.wb.ru'. Adding certificate verification is strongly advised. See: https://urllib3.readthedocs.io/en/latest/advanced-usage.html#ssl-warnings\n",
      "  warnings.warn(\n",
      "c:\\users\\rayak\\appdata\\local\\programs\\python\\python39\\lib\\site-packages\\urllib3\\connectionpool.py:1013: InsecureRequestWarning: Unverified HTTPS request is being made to host 'feedbacks2.wb.ru'. Adding certificate verification is strongly advised. See: https://urllib3.readthedocs.io/en/latest/advanced-usage.html#ssl-warnings\n",
      "  warnings.warn(\n"
     ]
    },
    {
     "name": "stdout",
     "output_type": "stream",
     "text": [
      "Отзывов нет\n",
      "===============\n",
      "46030) Отправка запроса на отзывы.\n",
      "Начинаем ML\n",
      "Записали тональность\n",
      "===============\n",
      "46031) Отправка запроса на отзывы.\n",
      "Начинаем ML\n"
     ]
    },
    {
     "name": "stderr",
     "output_type": "stream",
     "text": [
      "c:\\users\\rayak\\appdata\\local\\programs\\python\\python39\\lib\\site-packages\\urllib3\\connectionpool.py:1013: InsecureRequestWarning: Unverified HTTPS request is being made to host 'feedbacks2.wb.ru'. Adding certificate verification is strongly advised. See: https://urllib3.readthedocs.io/en/latest/advanced-usage.html#ssl-warnings\n",
      "  warnings.warn(\n"
     ]
    },
    {
     "name": "stdout",
     "output_type": "stream",
     "text": [
      "Записали тональность\n",
      "===============\n",
      "46032) Отправка запроса на отзывы.\n",
      "Начинаем ML\n"
     ]
    },
    {
     "name": "stderr",
     "output_type": "stream",
     "text": [
      "c:\\users\\rayak\\appdata\\local\\programs\\python\\python39\\lib\\site-packages\\urllib3\\connectionpool.py:1013: InsecureRequestWarning: Unverified HTTPS request is being made to host 'feedbacks2.wb.ru'. Adding certificate verification is strongly advised. See: https://urllib3.readthedocs.io/en/latest/advanced-usage.html#ssl-warnings\n",
      "  warnings.warn(\n"
     ]
    },
    {
     "name": "stdout",
     "output_type": "stream",
     "text": [
      "Записали тональность\n",
      "===============\n",
      "46033) Отправка запроса на отзывы.\n",
      "Отзывов нет\n",
      "===============\n",
      "46034) Отправка запроса на отзывы.\n"
     ]
    },
    {
     "name": "stderr",
     "output_type": "stream",
     "text": [
      "c:\\users\\rayak\\appdata\\local\\programs\\python\\python39\\lib\\site-packages\\urllib3\\connectionpool.py:1013: InsecureRequestWarning: Unverified HTTPS request is being made to host 'feedbacks2.wb.ru'. Adding certificate verification is strongly advised. See: https://urllib3.readthedocs.io/en/latest/advanced-usage.html#ssl-warnings\n",
      "  warnings.warn(\n",
      "c:\\users\\rayak\\appdata\\local\\programs\\python\\python39\\lib\\site-packages\\urllib3\\connectionpool.py:1013: InsecureRequestWarning: Unverified HTTPS request is being made to host 'feedbacks2.wb.ru'. Adding certificate verification is strongly advised. See: https://urllib3.readthedocs.io/en/latest/advanced-usage.html#ssl-warnings\n",
      "  warnings.warn(\n"
     ]
    },
    {
     "name": "stdout",
     "output_type": "stream",
     "text": [
      "Начинаем ML\n",
      "Записали тональность\n",
      "===============\n",
      "46035) Отправка запроса на отзывы.\n",
      "Отзывов нет\n",
      "===============\n",
      "46036) Отправка запроса на отзывы.\n"
     ]
    },
    {
     "name": "stderr",
     "output_type": "stream",
     "text": [
      "c:\\users\\rayak\\appdata\\local\\programs\\python\\python39\\lib\\site-packages\\urllib3\\connectionpool.py:1013: InsecureRequestWarning: Unverified HTTPS request is being made to host 'feedbacks2.wb.ru'. Adding certificate verification is strongly advised. See: https://urllib3.readthedocs.io/en/latest/advanced-usage.html#ssl-warnings\n",
      "  warnings.warn(\n",
      "c:\\users\\rayak\\appdata\\local\\programs\\python\\python39\\lib\\site-packages\\urllib3\\connectionpool.py:1013: InsecureRequestWarning: Unverified HTTPS request is being made to host 'feedbacks2.wb.ru'. Adding certificate verification is strongly advised. See: https://urllib3.readthedocs.io/en/latest/advanced-usage.html#ssl-warnings\n",
      "  warnings.warn(\n"
     ]
    },
    {
     "name": "stdout",
     "output_type": "stream",
     "text": [
      "Отзывов нет\n",
      "===============\n",
      "46037) Отправка запроса на отзывы.\n",
      "Отзывов нет\n",
      "===============\n",
      "46038) Отправка запроса на отзывы.\n"
     ]
    },
    {
     "name": "stderr",
     "output_type": "stream",
     "text": [
      "c:\\users\\rayak\\appdata\\local\\programs\\python\\python39\\lib\\site-packages\\urllib3\\connectionpool.py:1013: InsecureRequestWarning: Unverified HTTPS request is being made to host 'feedbacks2.wb.ru'. Adding certificate verification is strongly advised. See: https://urllib3.readthedocs.io/en/latest/advanced-usage.html#ssl-warnings\n",
      "  warnings.warn(\n",
      "c:\\users\\rayak\\appdata\\local\\programs\\python\\python39\\lib\\site-packages\\urllib3\\connectionpool.py:1013: InsecureRequestWarning: Unverified HTTPS request is being made to host 'feedbacks2.wb.ru'. Adding certificate verification is strongly advised. See: https://urllib3.readthedocs.io/en/latest/advanced-usage.html#ssl-warnings\n",
      "  warnings.warn(\n"
     ]
    },
    {
     "name": "stdout",
     "output_type": "stream",
     "text": [
      "Отзывов нет\n",
      "===============\n",
      "46039) Отправка запроса на отзывы.\n",
      "Отзывов нет\n",
      "===============\n",
      "46040) Отправка запроса на отзывы.\n"
     ]
    },
    {
     "name": "stderr",
     "output_type": "stream",
     "text": [
      "c:\\users\\rayak\\appdata\\local\\programs\\python\\python39\\lib\\site-packages\\urllib3\\connectionpool.py:1013: InsecureRequestWarning: Unverified HTTPS request is being made to host 'feedbacks2.wb.ru'. Adding certificate verification is strongly advised. See: https://urllib3.readthedocs.io/en/latest/advanced-usage.html#ssl-warnings\n",
      "  warnings.warn(\n",
      "c:\\users\\rayak\\appdata\\local\\programs\\python\\python39\\lib\\site-packages\\urllib3\\connectionpool.py:1013: InsecureRequestWarning: Unverified HTTPS request is being made to host 'feedbacks2.wb.ru'. Adding certificate verification is strongly advised. See: https://urllib3.readthedocs.io/en/latest/advanced-usage.html#ssl-warnings\n",
      "  warnings.warn(\n"
     ]
    },
    {
     "name": "stdout",
     "output_type": "stream",
     "text": [
      "Отзывов нет\n",
      "===============\n",
      "46041) Отправка запроса на отзывы.\n",
      "Отзывов нет\n",
      "===============\n",
      "46042) Отправка запроса на отзывы.\n"
     ]
    },
    {
     "name": "stderr",
     "output_type": "stream",
     "text": [
      "c:\\users\\rayak\\appdata\\local\\programs\\python\\python39\\lib\\site-packages\\urllib3\\connectionpool.py:1013: InsecureRequestWarning: Unverified HTTPS request is being made to host 'feedbacks2.wb.ru'. Adding certificate verification is strongly advised. See: https://urllib3.readthedocs.io/en/latest/advanced-usage.html#ssl-warnings\n",
      "  warnings.warn(\n",
      "c:\\users\\rayak\\appdata\\local\\programs\\python\\python39\\lib\\site-packages\\urllib3\\connectionpool.py:1013: InsecureRequestWarning: Unverified HTTPS request is being made to host 'feedbacks2.wb.ru'. Adding certificate verification is strongly advised. See: https://urllib3.readthedocs.io/en/latest/advanced-usage.html#ssl-warnings\n",
      "  warnings.warn(\n"
     ]
    },
    {
     "name": "stdout",
     "output_type": "stream",
     "text": [
      "Отзывов нет\n",
      "===============\n",
      "46043) Отправка запроса на отзывы.\n",
      "Отзывов нет\n",
      "===============\n",
      "46044) Отправка запроса на отзывы.\n"
     ]
    },
    {
     "name": "stderr",
     "output_type": "stream",
     "text": [
      "c:\\users\\rayak\\appdata\\local\\programs\\python\\python39\\lib\\site-packages\\urllib3\\connectionpool.py:1013: InsecureRequestWarning: Unverified HTTPS request is being made to host 'feedbacks2.wb.ru'. Adding certificate verification is strongly advised. See: https://urllib3.readthedocs.io/en/latest/advanced-usage.html#ssl-warnings\n",
      "  warnings.warn(\n",
      "c:\\users\\rayak\\appdata\\local\\programs\\python\\python39\\lib\\site-packages\\urllib3\\connectionpool.py:1013: InsecureRequestWarning: Unverified HTTPS request is being made to host 'feedbacks2.wb.ru'. Adding certificate verification is strongly advised. See: https://urllib3.readthedocs.io/en/latest/advanced-usage.html#ssl-warnings\n",
      "  warnings.warn(\n"
     ]
    },
    {
     "name": "stdout",
     "output_type": "stream",
     "text": [
      "Начинаем ML\n",
      "Записали тональность\n",
      "===============\n",
      "46045) Отправка запроса на отзывы.\n",
      "Отзывов нет\n",
      "===============\n",
      "46046) Отправка запроса на отзывы.\n"
     ]
    },
    {
     "name": "stderr",
     "output_type": "stream",
     "text": [
      "c:\\users\\rayak\\appdata\\local\\programs\\python\\python39\\lib\\site-packages\\urllib3\\connectionpool.py:1013: InsecureRequestWarning: Unverified HTTPS request is being made to host 'feedbacks2.wb.ru'. Adding certificate verification is strongly advised. See: https://urllib3.readthedocs.io/en/latest/advanced-usage.html#ssl-warnings\n",
      "  warnings.warn(\n",
      "c:\\users\\rayak\\appdata\\local\\programs\\python\\python39\\lib\\site-packages\\urllib3\\connectionpool.py:1013: InsecureRequestWarning: Unverified HTTPS request is being made to host 'feedbacks2.wb.ru'. Adding certificate verification is strongly advised. See: https://urllib3.readthedocs.io/en/latest/advanced-usage.html#ssl-warnings\n",
      "  warnings.warn(\n"
     ]
    },
    {
     "name": "stdout",
     "output_type": "stream",
     "text": [
      "Отзывов нет\n",
      "===============\n",
      "46047) Отправка запроса на отзывы.\n",
      "Отзывов нет\n",
      "===============\n",
      "46048) Отправка запроса на отзывы.\n"
     ]
    },
    {
     "name": "stderr",
     "output_type": "stream",
     "text": [
      "c:\\users\\rayak\\appdata\\local\\programs\\python\\python39\\lib\\site-packages\\urllib3\\connectionpool.py:1013: InsecureRequestWarning: Unverified HTTPS request is being made to host 'feedbacks2.wb.ru'. Adding certificate verification is strongly advised. See: https://urllib3.readthedocs.io/en/latest/advanced-usage.html#ssl-warnings\n",
      "  warnings.warn(\n",
      "c:\\users\\rayak\\appdata\\local\\programs\\python\\python39\\lib\\site-packages\\urllib3\\connectionpool.py:1013: InsecureRequestWarning: Unverified HTTPS request is being made to host 'feedbacks2.wb.ru'. Adding certificate verification is strongly advised. See: https://urllib3.readthedocs.io/en/latest/advanced-usage.html#ssl-warnings\n",
      "  warnings.warn(\n"
     ]
    },
    {
     "name": "stdout",
     "output_type": "stream",
     "text": [
      "Отзывов нет\n",
      "===============\n",
      "46049) Отправка запроса на отзывы.\n",
      "Отзывов нет\n",
      "===============\n",
      "46050) Отправка запроса на отзывы.\n"
     ]
    },
    {
     "name": "stderr",
     "output_type": "stream",
     "text": [
      "c:\\users\\rayak\\appdata\\local\\programs\\python\\python39\\lib\\site-packages\\urllib3\\connectionpool.py:1013: InsecureRequestWarning: Unverified HTTPS request is being made to host 'feedbacks2.wb.ru'. Adding certificate verification is strongly advised. See: https://urllib3.readthedocs.io/en/latest/advanced-usage.html#ssl-warnings\n",
      "  warnings.warn(\n",
      "c:\\users\\rayak\\appdata\\local\\programs\\python\\python39\\lib\\site-packages\\urllib3\\connectionpool.py:1013: InsecureRequestWarning: Unverified HTTPS request is being made to host 'feedbacks2.wb.ru'. Adding certificate verification is strongly advised. See: https://urllib3.readthedocs.io/en/latest/advanced-usage.html#ssl-warnings\n",
      "  warnings.warn(\n"
     ]
    },
    {
     "name": "stdout",
     "output_type": "stream",
     "text": [
      "Отзывов нет\n",
      "===============\n",
      "46051) Отправка запроса на отзывы.\n",
      "Отзывов нет\n",
      "===============\n",
      "46052) Отправка запроса на отзывы.\n"
     ]
    },
    {
     "name": "stderr",
     "output_type": "stream",
     "text": [
      "c:\\users\\rayak\\appdata\\local\\programs\\python\\python39\\lib\\site-packages\\urllib3\\connectionpool.py:1013: InsecureRequestWarning: Unverified HTTPS request is being made to host 'feedbacks2.wb.ru'. Adding certificate verification is strongly advised. See: https://urllib3.readthedocs.io/en/latest/advanced-usage.html#ssl-warnings\n",
      "  warnings.warn(\n",
      "c:\\users\\rayak\\appdata\\local\\programs\\python\\python39\\lib\\site-packages\\urllib3\\connectionpool.py:1013: InsecureRequestWarning: Unverified HTTPS request is being made to host 'feedbacks2.wb.ru'. Adding certificate verification is strongly advised. See: https://urllib3.readthedocs.io/en/latest/advanced-usage.html#ssl-warnings\n",
      "  warnings.warn(\n"
     ]
    },
    {
     "name": "stdout",
     "output_type": "stream",
     "text": [
      "Начинаем ML\n",
      "Записали тональность\n",
      "===============\n",
      "46053) Отправка запроса на отзывы.\n"
     ]
    },
    {
     "name": "stderr",
     "output_type": "stream",
     "text": [
      "c:\\users\\rayak\\appdata\\local\\programs\\python\\python39\\lib\\site-packages\\urllib3\\connectionpool.py:1013: InsecureRequestWarning: Unverified HTTPS request is being made to host 'feedbacks2.wb.ru'. Adding certificate verification is strongly advised. See: https://urllib3.readthedocs.io/en/latest/advanced-usage.html#ssl-warnings\n",
      "  warnings.warn(\n",
      "c:\\users\\rayak\\appdata\\local\\programs\\python\\python39\\lib\\site-packages\\urllib3\\connectionpool.py:1013: InsecureRequestWarning: Unverified HTTPS request is being made to host 'feedbacks2.wb.ru'. Adding certificate verification is strongly advised. See: https://urllib3.readthedocs.io/en/latest/advanced-usage.html#ssl-warnings\n",
      "  warnings.warn(\n"
     ]
    },
    {
     "name": "stdout",
     "output_type": "stream",
     "text": [
      "Отзывов нет\n",
      "===============\n",
      "46054) Отправка запроса на отзывы.\n",
      "Отзывов нет\n",
      "===============\n",
      "46055) Отправка запроса на отзывы.\n"
     ]
    },
    {
     "name": "stderr",
     "output_type": "stream",
     "text": [
      "c:\\users\\rayak\\appdata\\local\\programs\\python\\python39\\lib\\site-packages\\urllib3\\connectionpool.py:1013: InsecureRequestWarning: Unverified HTTPS request is being made to host 'feedbacks2.wb.ru'. Adding certificate verification is strongly advised. See: https://urllib3.readthedocs.io/en/latest/advanced-usage.html#ssl-warnings\n",
      "  warnings.warn(\n",
      "c:\\users\\rayak\\appdata\\local\\programs\\python\\python39\\lib\\site-packages\\urllib3\\connectionpool.py:1013: InsecureRequestWarning: Unverified HTTPS request is being made to host 'feedbacks2.wb.ru'. Adding certificate verification is strongly advised. See: https://urllib3.readthedocs.io/en/latest/advanced-usage.html#ssl-warnings\n",
      "  warnings.warn(\n"
     ]
    },
    {
     "name": "stdout",
     "output_type": "stream",
     "text": [
      "Отзывов нет\n",
      "===============\n",
      "46056) Отправка запроса на отзывы.\n",
      "Начинаем ML\n",
      "Записали тональность\n",
      "===============\n",
      "46057) Отправка запроса на отзывы.\n",
      "Отзывов нет\n",
      "===============\n",
      "46058) Отправка запроса на отзывы.\n"
     ]
    },
    {
     "name": "stderr",
     "output_type": "stream",
     "text": [
      "c:\\users\\rayak\\appdata\\local\\programs\\python\\python39\\lib\\site-packages\\urllib3\\connectionpool.py:1013: InsecureRequestWarning: Unverified HTTPS request is being made to host 'feedbacks2.wb.ru'. Adding certificate verification is strongly advised. See: https://urllib3.readthedocs.io/en/latest/advanced-usage.html#ssl-warnings\n",
      "  warnings.warn(\n",
      "c:\\users\\rayak\\appdata\\local\\programs\\python\\python39\\lib\\site-packages\\urllib3\\connectionpool.py:1013: InsecureRequestWarning: Unverified HTTPS request is being made to host 'feedbacks2.wb.ru'. Adding certificate verification is strongly advised. See: https://urllib3.readthedocs.io/en/latest/advanced-usage.html#ssl-warnings\n",
      "  warnings.warn(\n"
     ]
    },
    {
     "name": "stdout",
     "output_type": "stream",
     "text": [
      "Отзывов нет\n",
      "===============\n",
      "46059) Отправка запроса на отзывы.\n",
      "Отзывов нет\n",
      "===============\n",
      "46060) Отправка запроса на отзывы.\n"
     ]
    },
    {
     "name": "stderr",
     "output_type": "stream",
     "text": [
      "c:\\users\\rayak\\appdata\\local\\programs\\python\\python39\\lib\\site-packages\\urllib3\\connectionpool.py:1013: InsecureRequestWarning: Unverified HTTPS request is being made to host 'feedbacks2.wb.ru'. Adding certificate verification is strongly advised. See: https://urllib3.readthedocs.io/en/latest/advanced-usage.html#ssl-warnings\n",
      "  warnings.warn(\n",
      "c:\\users\\rayak\\appdata\\local\\programs\\python\\python39\\lib\\site-packages\\urllib3\\connectionpool.py:1013: InsecureRequestWarning: Unverified HTTPS request is being made to host 'feedbacks2.wb.ru'. Adding certificate verification is strongly advised. See: https://urllib3.readthedocs.io/en/latest/advanced-usage.html#ssl-warnings\n",
      "  warnings.warn(\n"
     ]
    },
    {
     "name": "stdout",
     "output_type": "stream",
     "text": [
      "Отзывов нет\n",
      "===============\n",
      "46061) Отправка запроса на отзывы.\n",
      "Отзывов нет\n",
      "===============\n",
      "46062) Отправка запроса на отзывы.\n"
     ]
    },
    {
     "name": "stderr",
     "output_type": "stream",
     "text": [
      "c:\\users\\rayak\\appdata\\local\\programs\\python\\python39\\lib\\site-packages\\urllib3\\connectionpool.py:1013: InsecureRequestWarning: Unverified HTTPS request is being made to host 'feedbacks2.wb.ru'. Adding certificate verification is strongly advised. See: https://urllib3.readthedocs.io/en/latest/advanced-usage.html#ssl-warnings\n",
      "  warnings.warn(\n",
      "c:\\users\\rayak\\appdata\\local\\programs\\python\\python39\\lib\\site-packages\\urllib3\\connectionpool.py:1013: InsecureRequestWarning: Unverified HTTPS request is being made to host 'feedbacks2.wb.ru'. Adding certificate verification is strongly advised. See: https://urllib3.readthedocs.io/en/latest/advanced-usage.html#ssl-warnings\n",
      "  warnings.warn(\n"
     ]
    },
    {
     "name": "stdout",
     "output_type": "stream",
     "text": [
      "Отзывов нет\n",
      "===============\n",
      "46063) Отправка запроса на отзывы.\n",
      "Начинаем ML\n"
     ]
    },
    {
     "name": "stderr",
     "output_type": "stream",
     "text": [
      "c:\\users\\rayak\\appdata\\local\\programs\\python\\python39\\lib\\site-packages\\urllib3\\connectionpool.py:1013: InsecureRequestWarning: Unverified HTTPS request is being made to host 'feedbacks2.wb.ru'. Adding certificate verification is strongly advised. See: https://urllib3.readthedocs.io/en/latest/advanced-usage.html#ssl-warnings\n",
      "  warnings.warn(\n"
     ]
    },
    {
     "name": "stdout",
     "output_type": "stream",
     "text": [
      "Записали тональность\n",
      "===============\n",
      "46064) Отправка запроса на отзывы.\n",
      "Начинаем ML\n"
     ]
    },
    {
     "name": "stderr",
     "output_type": "stream",
     "text": [
      "c:\\users\\rayak\\appdata\\local\\programs\\python\\python39\\lib\\site-packages\\urllib3\\connectionpool.py:1013: InsecureRequestWarning: Unverified HTTPS request is being made to host 'feedbacks2.wb.ru'. Adding certificate verification is strongly advised. See: https://urllib3.readthedocs.io/en/latest/advanced-usage.html#ssl-warnings\n",
      "  warnings.warn(\n"
     ]
    },
    {
     "name": "stdout",
     "output_type": "stream",
     "text": [
      "Записали тональность\n",
      "===============\n",
      "46065) Отправка запроса на отзывы.\n",
      "Отзывов нет\n",
      "===============\n",
      "46066) Отправка запроса на отзывы.\n"
     ]
    },
    {
     "name": "stderr",
     "output_type": "stream",
     "text": [
      "c:\\users\\rayak\\appdata\\local\\programs\\python\\python39\\lib\\site-packages\\urllib3\\connectionpool.py:1013: InsecureRequestWarning: Unverified HTTPS request is being made to host 'feedbacks2.wb.ru'. Adding certificate verification is strongly advised. See: https://urllib3.readthedocs.io/en/latest/advanced-usage.html#ssl-warnings\n",
      "  warnings.warn(\n",
      "c:\\users\\rayak\\appdata\\local\\programs\\python\\python39\\lib\\site-packages\\urllib3\\connectionpool.py:1013: InsecureRequestWarning: Unverified HTTPS request is being made to host 'feedbacks2.wb.ru'. Adding certificate verification is strongly advised. See: https://urllib3.readthedocs.io/en/latest/advanced-usage.html#ssl-warnings\n",
      "  warnings.warn(\n"
     ]
    },
    {
     "name": "stdout",
     "output_type": "stream",
     "text": [
      "Отзывов нет\n",
      "===============\n",
      "46067) Отправка запроса на отзывы.\n",
      "Отзывов нет\n",
      "===============\n",
      "46068) Отправка запроса на отзывы.\n"
     ]
    },
    {
     "name": "stderr",
     "output_type": "stream",
     "text": [
      "c:\\users\\rayak\\appdata\\local\\programs\\python\\python39\\lib\\site-packages\\urllib3\\connectionpool.py:1013: InsecureRequestWarning: Unverified HTTPS request is being made to host 'feedbacks2.wb.ru'. Adding certificate verification is strongly advised. See: https://urllib3.readthedocs.io/en/latest/advanced-usage.html#ssl-warnings\n",
      "  warnings.warn(\n",
      "c:\\users\\rayak\\appdata\\local\\programs\\python\\python39\\lib\\site-packages\\urllib3\\connectionpool.py:1013: InsecureRequestWarning: Unverified HTTPS request is being made to host 'feedbacks2.wb.ru'. Adding certificate verification is strongly advised. See: https://urllib3.readthedocs.io/en/latest/advanced-usage.html#ssl-warnings\n",
      "  warnings.warn(\n"
     ]
    },
    {
     "name": "stdout",
     "output_type": "stream",
     "text": [
      "Отзывов нет\n",
      "===============\n",
      "46069) Отправка запроса на отзывы.\n",
      "Отзывов нет\n",
      "===============\n",
      "46070) Отправка запроса на отзывы.\n"
     ]
    },
    {
     "name": "stderr",
     "output_type": "stream",
     "text": [
      "c:\\users\\rayak\\appdata\\local\\programs\\python\\python39\\lib\\site-packages\\urllib3\\connectionpool.py:1013: InsecureRequestWarning: Unverified HTTPS request is being made to host 'feedbacks2.wb.ru'. Adding certificate verification is strongly advised. See: https://urllib3.readthedocs.io/en/latest/advanced-usage.html#ssl-warnings\n",
      "  warnings.warn(\n",
      "c:\\users\\rayak\\appdata\\local\\programs\\python\\python39\\lib\\site-packages\\urllib3\\connectionpool.py:1013: InsecureRequestWarning: Unverified HTTPS request is being made to host 'feedbacks2.wb.ru'. Adding certificate verification is strongly advised. See: https://urllib3.readthedocs.io/en/latest/advanced-usage.html#ssl-warnings\n",
      "  warnings.warn(\n"
     ]
    },
    {
     "name": "stdout",
     "output_type": "stream",
     "text": [
      "Отзывов нет\n",
      "===============\n",
      "46071) Отправка запроса на отзывы.\n",
      "Начинаем ML\n"
     ]
    },
    {
     "name": "stderr",
     "output_type": "stream",
     "text": [
      "c:\\users\\rayak\\appdata\\local\\programs\\python\\python39\\lib\\site-packages\\urllib3\\connectionpool.py:1013: InsecureRequestWarning: Unverified HTTPS request is being made to host 'feedbacks2.wb.ru'. Adding certificate verification is strongly advised. See: https://urllib3.readthedocs.io/en/latest/advanced-usage.html#ssl-warnings\n",
      "  warnings.warn(\n"
     ]
    },
    {
     "name": "stdout",
     "output_type": "stream",
     "text": [
      "Записали тональность\n",
      "===============\n",
      "46072) Отправка запроса на отзывы.\n",
      "Начинаем ML\n",
      "Записали тональность\n",
      "===============\n",
      "46073) Отправка запроса на отзывы.\n"
     ]
    },
    {
     "name": "stderr",
     "output_type": "stream",
     "text": [
      "c:\\users\\rayak\\appdata\\local\\programs\\python\\python39\\lib\\site-packages\\urllib3\\connectionpool.py:1013: InsecureRequestWarning: Unverified HTTPS request is being made to host 'feedbacks2.wb.ru'. Adding certificate verification is strongly advised. See: https://urllib3.readthedocs.io/en/latest/advanced-usage.html#ssl-warnings\n",
      "  warnings.warn(\n",
      "c:\\users\\rayak\\appdata\\local\\programs\\python\\python39\\lib\\site-packages\\urllib3\\connectionpool.py:1013: InsecureRequestWarning: Unverified HTTPS request is being made to host 'feedbacks2.wb.ru'. Adding certificate verification is strongly advised. See: https://urllib3.readthedocs.io/en/latest/advanced-usage.html#ssl-warnings\n",
      "  warnings.warn(\n"
     ]
    },
    {
     "name": "stdout",
     "output_type": "stream",
     "text": [
      "Отзывов нет\n",
      "===============\n",
      "46074) Отправка запроса на отзывы.\n",
      "Отзывов нет\n",
      "===============\n",
      "46075) Отправка запроса на отзывы.\n"
     ]
    },
    {
     "name": "stderr",
     "output_type": "stream",
     "text": [
      "c:\\users\\rayak\\appdata\\local\\programs\\python\\python39\\lib\\site-packages\\urllib3\\connectionpool.py:1013: InsecureRequestWarning: Unverified HTTPS request is being made to host 'feedbacks2.wb.ru'. Adding certificate verification is strongly advised. See: https://urllib3.readthedocs.io/en/latest/advanced-usage.html#ssl-warnings\n",
      "  warnings.warn(\n",
      "c:\\users\\rayak\\appdata\\local\\programs\\python\\python39\\lib\\site-packages\\urllib3\\connectionpool.py:1013: InsecureRequestWarning: Unverified HTTPS request is being made to host 'feedbacks2.wb.ru'. Adding certificate verification is strongly advised. See: https://urllib3.readthedocs.io/en/latest/advanced-usage.html#ssl-warnings\n",
      "  warnings.warn(\n"
     ]
    },
    {
     "name": "stdout",
     "output_type": "stream",
     "text": [
      "Отзывов нет\n",
      "===============\n",
      "46076) Отправка запроса на отзывы.\n",
      "Отзывов нет\n",
      "===============\n",
      "46077) Отправка запроса на отзывы.\n"
     ]
    },
    {
     "name": "stderr",
     "output_type": "stream",
     "text": [
      "c:\\users\\rayak\\appdata\\local\\programs\\python\\python39\\lib\\site-packages\\urllib3\\connectionpool.py:1013: InsecureRequestWarning: Unverified HTTPS request is being made to host 'feedbacks2.wb.ru'. Adding certificate verification is strongly advised. See: https://urllib3.readthedocs.io/en/latest/advanced-usage.html#ssl-warnings\n",
      "  warnings.warn(\n",
      "c:\\users\\rayak\\appdata\\local\\programs\\python\\python39\\lib\\site-packages\\urllib3\\connectionpool.py:1013: InsecureRequestWarning: Unverified HTTPS request is being made to host 'feedbacks2.wb.ru'. Adding certificate verification is strongly advised. See: https://urllib3.readthedocs.io/en/latest/advanced-usage.html#ssl-warnings\n",
      "  warnings.warn(\n"
     ]
    },
    {
     "name": "stdout",
     "output_type": "stream",
     "text": [
      "Отзывов нет\n",
      "===============\n",
      "46078) Отправка запроса на отзывы.\n",
      "Отзывов нет\n",
      "===============\n",
      "46079) Отправка запроса на отзывы.\n"
     ]
    },
    {
     "name": "stderr",
     "output_type": "stream",
     "text": [
      "c:\\users\\rayak\\appdata\\local\\programs\\python\\python39\\lib\\site-packages\\urllib3\\connectionpool.py:1013: InsecureRequestWarning: Unverified HTTPS request is being made to host 'feedbacks2.wb.ru'. Adding certificate verification is strongly advised. See: https://urllib3.readthedocs.io/en/latest/advanced-usage.html#ssl-warnings\n",
      "  warnings.warn(\n",
      "c:\\users\\rayak\\appdata\\local\\programs\\python\\python39\\lib\\site-packages\\urllib3\\connectionpool.py:1013: InsecureRequestWarning: Unverified HTTPS request is being made to host 'feedbacks2.wb.ru'. Adding certificate verification is strongly advised. See: https://urllib3.readthedocs.io/en/latest/advanced-usage.html#ssl-warnings\n",
      "  warnings.warn(\n"
     ]
    },
    {
     "name": "stdout",
     "output_type": "stream",
     "text": [
      "Отзывов нет\n",
      "===============\n",
      "46080) Отправка запроса на отзывы.\n",
      "Начинаем ML\n"
     ]
    },
    {
     "name": "stderr",
     "output_type": "stream",
     "text": [
      "c:\\users\\rayak\\appdata\\local\\programs\\python\\python39\\lib\\site-packages\\urllib3\\connectionpool.py:1013: InsecureRequestWarning: Unverified HTTPS request is being made to host 'feedbacks2.wb.ru'. Adding certificate verification is strongly advised. See: https://urllib3.readthedocs.io/en/latest/advanced-usage.html#ssl-warnings\n",
      "  warnings.warn(\n"
     ]
    },
    {
     "name": "stdout",
     "output_type": "stream",
     "text": [
      "Записали тональность\n",
      "===============\n",
      "46081) Отправка запроса на отзывы.\n",
      "Начинаем ML\n"
     ]
    },
    {
     "name": "stderr",
     "output_type": "stream",
     "text": [
      "c:\\users\\rayak\\appdata\\local\\programs\\python\\python39\\lib\\site-packages\\urllib3\\connectionpool.py:1013: InsecureRequestWarning: Unverified HTTPS request is being made to host 'feedbacks2.wb.ru'. Adding certificate verification is strongly advised. See: https://urllib3.readthedocs.io/en/latest/advanced-usage.html#ssl-warnings\n",
      "  warnings.warn(\n"
     ]
    },
    {
     "name": "stdout",
     "output_type": "stream",
     "text": [
      "Записали тональность\n",
      "===============\n",
      "46082) Отправка запроса на отзывы.\n",
      "Отзывов нет\n",
      "===============\n",
      "46083) Отправка запроса на отзывы.\n"
     ]
    },
    {
     "name": "stderr",
     "output_type": "stream",
     "text": [
      "c:\\users\\rayak\\appdata\\local\\programs\\python\\python39\\lib\\site-packages\\urllib3\\connectionpool.py:1013: InsecureRequestWarning: Unverified HTTPS request is being made to host 'feedbacks2.wb.ru'. Adding certificate verification is strongly advised. See: https://urllib3.readthedocs.io/en/latest/advanced-usage.html#ssl-warnings\n",
      "  warnings.warn(\n",
      "c:\\users\\rayak\\appdata\\local\\programs\\python\\python39\\lib\\site-packages\\urllib3\\connectionpool.py:1013: InsecureRequestWarning: Unverified HTTPS request is being made to host 'feedbacks2.wb.ru'. Adding certificate verification is strongly advised. See: https://urllib3.readthedocs.io/en/latest/advanced-usage.html#ssl-warnings\n",
      "  warnings.warn(\n"
     ]
    },
    {
     "name": "stdout",
     "output_type": "stream",
     "text": [
      "Отзывов нет\n",
      "===============\n",
      "46084) Отправка запроса на отзывы.\n",
      "Отзывов нет\n",
      "===============\n",
      "46085) Отправка запроса на отзывы.\n"
     ]
    },
    {
     "name": "stderr",
     "output_type": "stream",
     "text": [
      "c:\\users\\rayak\\appdata\\local\\programs\\python\\python39\\lib\\site-packages\\urllib3\\connectionpool.py:1013: InsecureRequestWarning: Unverified HTTPS request is being made to host 'feedbacks2.wb.ru'. Adding certificate verification is strongly advised. See: https://urllib3.readthedocs.io/en/latest/advanced-usage.html#ssl-warnings\n",
      "  warnings.warn(\n",
      "c:\\users\\rayak\\appdata\\local\\programs\\python\\python39\\lib\\site-packages\\urllib3\\connectionpool.py:1013: InsecureRequestWarning: Unverified HTTPS request is being made to host 'feedbacks2.wb.ru'. Adding certificate verification is strongly advised. See: https://urllib3.readthedocs.io/en/latest/advanced-usage.html#ssl-warnings\n",
      "  warnings.warn(\n"
     ]
    },
    {
     "name": "stdout",
     "output_type": "stream",
     "text": [
      "Начинаем ML\n",
      "Записали тональность\n",
      "===============\n",
      "46086) Отправка запроса на отзывы.\n",
      "Отзывов нет\n",
      "===============\n",
      "46087) Отправка запроса на отзывы.\n"
     ]
    },
    {
     "name": "stderr",
     "output_type": "stream",
     "text": [
      "c:\\users\\rayak\\appdata\\local\\programs\\python\\python39\\lib\\site-packages\\urllib3\\connectionpool.py:1013: InsecureRequestWarning: Unverified HTTPS request is being made to host 'feedbacks2.wb.ru'. Adding certificate verification is strongly advised. See: https://urllib3.readthedocs.io/en/latest/advanced-usage.html#ssl-warnings\n",
      "  warnings.warn(\n",
      "c:\\users\\rayak\\appdata\\local\\programs\\python\\python39\\lib\\site-packages\\urllib3\\connectionpool.py:1013: InsecureRequestWarning: Unverified HTTPS request is being made to host 'feedbacks2.wb.ru'. Adding certificate verification is strongly advised. See: https://urllib3.readthedocs.io/en/latest/advanced-usage.html#ssl-warnings\n",
      "  warnings.warn(\n"
     ]
    },
    {
     "name": "stdout",
     "output_type": "stream",
     "text": [
      "Начинаем ML\n",
      "Записали тональность\n",
      "===============\n",
      "46088) Отправка запроса на отзывы.\n",
      "Отзывов нет\n",
      "===============\n",
      "46089) Отправка запроса на отзывы.\n"
     ]
    },
    {
     "name": "stderr",
     "output_type": "stream",
     "text": [
      "c:\\users\\rayak\\appdata\\local\\programs\\python\\python39\\lib\\site-packages\\urllib3\\connectionpool.py:1013: InsecureRequestWarning: Unverified HTTPS request is being made to host 'feedbacks2.wb.ru'. Adding certificate verification is strongly advised. See: https://urllib3.readthedocs.io/en/latest/advanced-usage.html#ssl-warnings\n",
      "  warnings.warn(\n",
      "c:\\users\\rayak\\appdata\\local\\programs\\python\\python39\\lib\\site-packages\\urllib3\\connectionpool.py:1013: InsecureRequestWarning: Unverified HTTPS request is being made to host 'feedbacks2.wb.ru'. Adding certificate verification is strongly advised. See: https://urllib3.readthedocs.io/en/latest/advanced-usage.html#ssl-warnings\n",
      "  warnings.warn(\n"
     ]
    },
    {
     "name": "stdout",
     "output_type": "stream",
     "text": [
      "Отзывов нет\n",
      "===============\n",
      "46090) Отправка запроса на отзывы.\n",
      "Отзывов нет\n",
      "===============\n",
      "46091) Отправка запроса на отзывы.\n"
     ]
    },
    {
     "name": "stderr",
     "output_type": "stream",
     "text": [
      "c:\\users\\rayak\\appdata\\local\\programs\\python\\python39\\lib\\site-packages\\urllib3\\connectionpool.py:1013: InsecureRequestWarning: Unverified HTTPS request is being made to host 'feedbacks2.wb.ru'. Adding certificate verification is strongly advised. See: https://urllib3.readthedocs.io/en/latest/advanced-usage.html#ssl-warnings\n",
      "  warnings.warn(\n",
      "c:\\users\\rayak\\appdata\\local\\programs\\python\\python39\\lib\\site-packages\\urllib3\\connectionpool.py:1013: InsecureRequestWarning: Unverified HTTPS request is being made to host 'feedbacks2.wb.ru'. Adding certificate verification is strongly advised. See: https://urllib3.readthedocs.io/en/latest/advanced-usage.html#ssl-warnings\n",
      "  warnings.warn(\n"
     ]
    },
    {
     "name": "stdout",
     "output_type": "stream",
     "text": [
      "Начинаем ML\n",
      "Записали тональность\n",
      "===============\n",
      "46092) Отправка запроса на отзывы.\n",
      "Начинаем ML\n"
     ]
    },
    {
     "name": "stderr",
     "output_type": "stream",
     "text": [
      "c:\\users\\rayak\\appdata\\local\\programs\\python\\python39\\lib\\site-packages\\urllib3\\connectionpool.py:1013: InsecureRequestWarning: Unverified HTTPS request is being made to host 'feedbacks2.wb.ru'. Adding certificate verification is strongly advised. See: https://urllib3.readthedocs.io/en/latest/advanced-usage.html#ssl-warnings\n",
      "  warnings.warn(\n"
     ]
    },
    {
     "name": "stdout",
     "output_type": "stream",
     "text": [
      "Записали тональность\n",
      "===============\n",
      "46093) Отправка запроса на отзывы.\n",
      "Отзывов нет\n",
      "===============\n",
      "46094) Отправка запроса на отзывы.\n"
     ]
    },
    {
     "name": "stderr",
     "output_type": "stream",
     "text": [
      "c:\\users\\rayak\\appdata\\local\\programs\\python\\python39\\lib\\site-packages\\urllib3\\connectionpool.py:1013: InsecureRequestWarning: Unverified HTTPS request is being made to host 'feedbacks2.wb.ru'. Adding certificate verification is strongly advised. See: https://urllib3.readthedocs.io/en/latest/advanced-usage.html#ssl-warnings\n",
      "  warnings.warn(\n",
      "c:\\users\\rayak\\appdata\\local\\programs\\python\\python39\\lib\\site-packages\\urllib3\\connectionpool.py:1013: InsecureRequestWarning: Unverified HTTPS request is being made to host 'feedbacks2.wb.ru'. Adding certificate verification is strongly advised. See: https://urllib3.readthedocs.io/en/latest/advanced-usage.html#ssl-warnings\n",
      "  warnings.warn(\n"
     ]
    },
    {
     "name": "stdout",
     "output_type": "stream",
     "text": [
      "Отзывов нет\n",
      "===============\n",
      "46095) Отправка запроса на отзывы.\n",
      "Отзывов нет\n",
      "===============\n",
      "46096) Отправка запроса на отзывы.\n"
     ]
    },
    {
     "name": "stderr",
     "output_type": "stream",
     "text": [
      "c:\\users\\rayak\\appdata\\local\\programs\\python\\python39\\lib\\site-packages\\urllib3\\connectionpool.py:1013: InsecureRequestWarning: Unverified HTTPS request is being made to host 'feedbacks2.wb.ru'. Adding certificate verification is strongly advised. See: https://urllib3.readthedocs.io/en/latest/advanced-usage.html#ssl-warnings\n",
      "  warnings.warn(\n",
      "c:\\users\\rayak\\appdata\\local\\programs\\python\\python39\\lib\\site-packages\\urllib3\\connectionpool.py:1013: InsecureRequestWarning: Unverified HTTPS request is being made to host 'feedbacks2.wb.ru'. Adding certificate verification is strongly advised. See: https://urllib3.readthedocs.io/en/latest/advanced-usage.html#ssl-warnings\n",
      "  warnings.warn(\n"
     ]
    },
    {
     "name": "stdout",
     "output_type": "stream",
     "text": [
      "Начинаем ML\n",
      "Записали тональность\n",
      "===============\n",
      "46097) Отправка запроса на отзывы.\n"
     ]
    },
    {
     "name": "stderr",
     "output_type": "stream",
     "text": [
      "c:\\users\\rayak\\appdata\\local\\programs\\python\\python39\\lib\\site-packages\\urllib3\\connectionpool.py:1013: InsecureRequestWarning: Unverified HTTPS request is being made to host 'feedbacks2.wb.ru'. Adding certificate verification is strongly advised. See: https://urllib3.readthedocs.io/en/latest/advanced-usage.html#ssl-warnings\n",
      "  warnings.warn(\n",
      "c:\\users\\rayak\\appdata\\local\\programs\\python\\python39\\lib\\site-packages\\urllib3\\connectionpool.py:1013: InsecureRequestWarning: Unverified HTTPS request is being made to host 'feedbacks2.wb.ru'. Adding certificate verification is strongly advised. See: https://urllib3.readthedocs.io/en/latest/advanced-usage.html#ssl-warnings\n",
      "  warnings.warn(\n"
     ]
    },
    {
     "name": "stdout",
     "output_type": "stream",
     "text": [
      "Отзывов нет\n",
      "===============\n",
      "46098) Отправка запроса на отзывы.\n",
      "Отзывов нет\n",
      "===============\n",
      "46099) Отправка запроса на отзывы.\n"
     ]
    },
    {
     "name": "stderr",
     "output_type": "stream",
     "text": [
      "c:\\users\\rayak\\appdata\\local\\programs\\python\\python39\\lib\\site-packages\\urllib3\\connectionpool.py:1013: InsecureRequestWarning: Unverified HTTPS request is being made to host 'feedbacks2.wb.ru'. Adding certificate verification is strongly advised. See: https://urllib3.readthedocs.io/en/latest/advanced-usage.html#ssl-warnings\n",
      "  warnings.warn(\n"
     ]
    },
    {
     "name": "stdout",
     "output_type": "stream",
     "text": [
      "Начинаем ML\n",
      "Записали тональность\n",
      "===============\n",
      "46100) Отправка запроса на отзывы.\n",
      "Начинаем ML\n"
     ]
    },
    {
     "name": "stderr",
     "output_type": "stream",
     "text": [
      "c:\\users\\rayak\\appdata\\local\\programs\\python\\python39\\lib\\site-packages\\urllib3\\connectionpool.py:1013: InsecureRequestWarning: Unverified HTTPS request is being made to host 'feedbacks2.wb.ru'. Adding certificate verification is strongly advised. See: https://urllib3.readthedocs.io/en/latest/advanced-usage.html#ssl-warnings\n",
      "  warnings.warn(\n"
     ]
    },
    {
     "name": "stdout",
     "output_type": "stream",
     "text": [
      "Записали тональность\n",
      "===============\n",
      "46101) Отправка запроса на отзывы.\n"
     ]
    },
    {
     "name": "stderr",
     "output_type": "stream",
     "text": [
      "c:\\users\\rayak\\appdata\\local\\programs\\python\\python39\\lib\\site-packages\\urllib3\\connectionpool.py:1013: InsecureRequestWarning: Unverified HTTPS request is being made to host 'feedbacks2.wb.ru'. Adding certificate verification is strongly advised. See: https://urllib3.readthedocs.io/en/latest/advanced-usage.html#ssl-warnings\n",
      "  warnings.warn(\n"
     ]
    },
    {
     "name": "stdout",
     "output_type": "stream",
     "text": [
      "Начинаем ML\n",
      "Записали тональность\n",
      "===============\n",
      "46102) Отправка запроса на отзывы.\n"
     ]
    },
    {
     "name": "stderr",
     "output_type": "stream",
     "text": [
      "c:\\users\\rayak\\appdata\\local\\programs\\python\\python39\\lib\\site-packages\\urllib3\\connectionpool.py:1013: InsecureRequestWarning: Unverified HTTPS request is being made to host 'feedbacks2.wb.ru'. Adding certificate verification is strongly advised. See: https://urllib3.readthedocs.io/en/latest/advanced-usage.html#ssl-warnings\n",
      "  warnings.warn(\n"
     ]
    },
    {
     "name": "stdout",
     "output_type": "stream",
     "text": [
      "Начинаем ML\n",
      "Записали тональность\n",
      "===============\n",
      "46103) Отправка запроса на отзывы.\n"
     ]
    },
    {
     "name": "stderr",
     "output_type": "stream",
     "text": [
      "c:\\users\\rayak\\appdata\\local\\programs\\python\\python39\\lib\\site-packages\\urllib3\\connectionpool.py:1013: InsecureRequestWarning: Unverified HTTPS request is being made to host 'feedbacks2.wb.ru'. Adding certificate verification is strongly advised. See: https://urllib3.readthedocs.io/en/latest/advanced-usage.html#ssl-warnings\n",
      "  warnings.warn(\n"
     ]
    },
    {
     "name": "stdout",
     "output_type": "stream",
     "text": [
      "Начинаем ML\n",
      "Записали тональность\n",
      "===============\n",
      "46104) Отправка запроса на отзывы.\n"
     ]
    },
    {
     "name": "stderr",
     "output_type": "stream",
     "text": [
      "c:\\users\\rayak\\appdata\\local\\programs\\python\\python39\\lib\\site-packages\\urllib3\\connectionpool.py:1013: InsecureRequestWarning: Unverified HTTPS request is being made to host 'feedbacks2.wb.ru'. Adding certificate verification is strongly advised. See: https://urllib3.readthedocs.io/en/latest/advanced-usage.html#ssl-warnings\n",
      "  warnings.warn(\n"
     ]
    },
    {
     "name": "stdout",
     "output_type": "stream",
     "text": [
      "Начинаем ML\n",
      "Записали тональность\n",
      "===============\n",
      "46105) Отправка запроса на отзывы.\n",
      "Отзывов нет\n",
      "===============\n",
      "46106) Отправка запроса на отзывы.\n"
     ]
    },
    {
     "name": "stderr",
     "output_type": "stream",
     "text": [
      "c:\\users\\rayak\\appdata\\local\\programs\\python\\python39\\lib\\site-packages\\urllib3\\connectionpool.py:1013: InsecureRequestWarning: Unverified HTTPS request is being made to host 'feedbacks2.wb.ru'. Adding certificate verification is strongly advised. See: https://urllib3.readthedocs.io/en/latest/advanced-usage.html#ssl-warnings\n",
      "  warnings.warn(\n",
      "c:\\users\\rayak\\appdata\\local\\programs\\python\\python39\\lib\\site-packages\\urllib3\\connectionpool.py:1013: InsecureRequestWarning: Unverified HTTPS request is being made to host 'feedbacks2.wb.ru'. Adding certificate verification is strongly advised. See: https://urllib3.readthedocs.io/en/latest/advanced-usage.html#ssl-warnings\n",
      "  warnings.warn(\n"
     ]
    },
    {
     "name": "stdout",
     "output_type": "stream",
     "text": [
      "Начинаем ML\n",
      "Записали тональность\n",
      "===============\n",
      "46107) Отправка запроса на отзывы.\n"
     ]
    },
    {
     "name": "stderr",
     "output_type": "stream",
     "text": [
      "c:\\users\\rayak\\appdata\\local\\programs\\python\\python39\\lib\\site-packages\\urllib3\\connectionpool.py:1013: InsecureRequestWarning: Unverified HTTPS request is being made to host 'feedbacks2.wb.ru'. Adding certificate verification is strongly advised. See: https://urllib3.readthedocs.io/en/latest/advanced-usage.html#ssl-warnings\n",
      "  warnings.warn(\n"
     ]
    },
    {
     "name": "stdout",
     "output_type": "stream",
     "text": [
      "Начинаем ML\n",
      "Записали тональность\n",
      "===============\n",
      "46108) Отправка запроса на отзывы.\n",
      "Отзывов нет\n"
     ]
    },
    {
     "name": "stderr",
     "output_type": "stream",
     "text": [
      "c:\\users\\rayak\\appdata\\local\\programs\\python\\python39\\lib\\site-packages\\urllib3\\connectionpool.py:1013: InsecureRequestWarning: Unverified HTTPS request is being made to host 'feedbacks2.wb.ru'. Adding certificate verification is strongly advised. See: https://urllib3.readthedocs.io/en/latest/advanced-usage.html#ssl-warnings\n",
      "  warnings.warn(\n"
     ]
    }
   ],
   "source": [
    "while i < len(data):\n",
    "    print(\"=\"*15)\n",
    "    print(f\"{i}) Отправка запроса на отзывы.\")\n",
    "    feedbacks = get_about_product(str(data[str(i)][\"root\"])).json()[\"feedbacks\"]\n",
    "    if feedbacks != None and feedbacks != []:\n",
    "        texts = []\n",
    "        answers = []\n",
    "        photos_list = []\n",
    "\n",
    "        if len(feedbacks) >= 50:\n",
    "            m = 0\n",
    "            while m < 50:\n",
    "                year_max = 0\n",
    "                month_max = 0\n",
    "                day_max = 0\n",
    "                order_number = 0\n",
    "                for j in range(len(feedbacks)):\n",
    "                    year = int(feedbacks[j][\"createdDate\"][0:4])\n",
    "                    month = int(feedbacks[j][\"createdDate\"][5:7])\n",
    "                    day = int(feedbacks[j][\"createdDate\"][8:10])\n",
    "                    if year > year_max:\n",
    "                        year_max = year\n",
    "                        month_max = month\n",
    "                        day_max = day\n",
    "                        text = feedbacks[j][\"text\"]\n",
    "                        order_number = j\n",
    "                        if feedbacks[j][\"answer\"] != None:\n",
    "                            answer = 1\n",
    "                        else:\n",
    "                            answer = 0\n",
    "                        if \"photos\" in feedbacks[j]:\n",
    "                            photos = 1\n",
    "                        else:\n",
    "                            photos = 0\n",
    "                    elif year == year_max:\n",
    "                        if month > month_max:\n",
    "                            year_max = year\n",
    "                            month_max = month\n",
    "                            day_max = day\n",
    "                            text = feedbacks[j][\"text\"]\n",
    "                            order_number = j\n",
    "                            if feedbacks[j][\"answer\"] != None:\n",
    "                                answer = 1\n",
    "                            else:\n",
    "                                answer = 0\n",
    "                            if \"photos\" in feedbacks[j]:\n",
    "                                photos = 1\n",
    "                            else:\n",
    "                                photos = 0\n",
    "                        elif month == month_max:\n",
    "                            if day > day_max:\n",
    "                                year_max = year\n",
    "                                month_max = month\n",
    "                                day_max = day\n",
    "                                text = feedbacks[j][\"text\"]\n",
    "                                order_number = j\n",
    "                                if feedbacks[j][\"answer\"] != None:\n",
    "                                    answer = 1\n",
    "                                else:\n",
    "                                    answer = 0\n",
    "                                if \"photos\" in feedbacks[j]:\n",
    "                                    photos = 1\n",
    "                                else:\n",
    "                                    photos = 0\n",
    "                            elif day == day_max:\n",
    "                                year_max = year\n",
    "                                month_max = month\n",
    "                                day_max = day\n",
    "                                text = feedbacks[j][\"text\"]\n",
    "                                order_number = j\n",
    "                                if feedbacks[j][\"answer\"] != None:\n",
    "                                    answer = 1\n",
    "                                else:\n",
    "                                    answer = 0\n",
    "                                if \"photos\" in feedbacks[j]:\n",
    "                                    photos = 1\n",
    "                                else:\n",
    "                                    photos = 0\n",
    "                texts.append(text)\n",
    "                answers.append(answer)\n",
    "                photos_list.append(photos)\n",
    "                feedbacks.pop(order_number)\n",
    "                m += 1\n",
    "        else:\n",
    "            for n in range(len(feedbacks)):\n",
    "                texts.append(feedbacks[n][\"text\"])\n",
    "                if feedbacks[n][\"answer\"] != None:\n",
    "                    answer = 1\n",
    "                else:\n",
    "                    answer = 0\n",
    "                if \"photos\" in feedbacks[n]:\n",
    "                    photos = 1\n",
    "                else:\n",
    "                    photos = 0\n",
    "                answers.append(answer)\n",
    "                photos_list.append(photos)\n",
    "        data[str(i)][\"neutral_feedbacks\"] = 0\n",
    "        data[str(i)][\"positive_feedbacks\"] = 0\n",
    "        data[str(i)][\"negative_feedbacks\"] = 0\n",
    "        print(\"Начинаем ML\")\n",
    "        for j in range(len(texts)):\n",
    "            result = predict_emotion(texts[j])\n",
    "            if result == \"Нетрально\":\n",
    "                data[str(i)][\"neutral_feedbacks\"] += 1\n",
    "            elif result == \"Положительно\":\n",
    "                data[str(i)][\"positive_feedbacks\"] += 1\n",
    "            else:\n",
    "                data[str(i)][\"negative_feedbacks\"] += 1\n",
    "        data[str(i)][\"neutral_feedbacks\"] = data[str(i)][\"neutral_feedbacks\"] / len(texts) * 100\n",
    "        data[str(i)][\"positive_feedbacks\"] = data[str(i)][\"positive_feedbacks\"] / len(texts) * 100\n",
    "        data[str(i)][\"negative_feedbacks\"] = data[str(i)][\"negative_feedbacks\"] / len(texts) * 100\n",
    "        print(\"Записали тональность\")\n",
    "        number_of_answers = 0\n",
    "        for answer in answers:\n",
    "            if answer == 1:\n",
    "                number_of_answers += 1\n",
    "        data[str(i)][\"brand_answers\"] = number_of_answers / len(texts) * 100\n",
    "\n",
    "        number_with_photos = 0\n",
    "        for photo in photos_list:\n",
    "            if photo == 1:\n",
    "                number_with_photos += 1\n",
    "        data[str(i)][\"with_photos\"] = number_with_photos / len(texts) * 100\n",
    "    else:\n",
    "        print(\"Отзывов нет\")\n",
    "    i += 1"
   ]
  },
  {
   "cell_type": "code",
   "execution_count": 170,
   "id": "979dd366",
   "metadata": {},
   "outputs": [],
   "source": [
    "for i in data:\n",
    "    data[i][\"priceU\"] = data[i][\"priceU\"] / 100\n",
    "    data[i][\"salePriceU\"] = data[i][\"salePriceU\"] / 100"
   ]
  },
  {
   "cell_type": "code",
   "execution_count": 173,
   "id": "f16fad47",
   "metadata": {},
   "outputs": [
    {
     "name": "stdout",
     "output_type": "stream",
     "text": [
      "0\n"
     ]
    }
   ],
   "source": [
    "# Проверка кол-ва нейтральных отзывов\n",
    "a = 0\n",
    "for i in final_data:\n",
    "    if \"neutral_feedbacks\" in final_data[i]:\n",
    "        if final_data[i][\"neutral_feedbacks\"] != 0:\n",
    "            a += 1\n",
    "print(a)"
   ]
  },
  {
   "cell_type": "code",
   "execution_count": 174,
   "id": "36ff1057",
   "metadata": {},
   "outputs": [],
   "source": [
    "#Их нет. Поэтому удаляю их из данных\n",
    "for i in final_data:\n",
    "    if \"neutral_feedbacks\" in final_data[i]:\n",
    "        final_data[i].pop(\"neutral_feedbacks\")"
   ]
  },
  {
   "cell_type": "code",
   "execution_count": 175,
   "id": "85a7a079",
   "metadata": {},
   "outputs": [],
   "source": [
    "json.dump(final_data, open(\"for_analysis_final.json\", \"w\", encoding=\"utf-8\"), ensure_ascii=False)"
   ]
  },
  {
   "cell_type": "code",
   "execution_count": null,
   "id": "2973d7d0",
   "metadata": {},
   "outputs": [],
   "source": [
    "# Анализ"
   ]
  },
  {
   "cell_type": "code",
   "execution_count": null,
   "id": "24dee1e3",
   "metadata": {},
   "outputs": [],
   "source": [
    "# Переделываем json в csv"
   ]
  },
  {
   "cell_type": "code",
   "execution_count": 176,
   "id": "fd5564e0",
   "metadata": {},
   "outputs": [],
   "source": [
    "columns = ['id', 'name', 'brand', 'sale', 'priceU', 'salePriceU', 'rating', 'feedbacks', 'category_name', 'subcategory_name',\n",
    "           'sold_quantity', 'positive_feedbacks', 'negative_feedbacks', 'brand_answers', 'with_photos']"
   ]
  },
  {
   "cell_type": "code",
   "execution_count": 177,
   "id": "bc54c5e9",
   "metadata": {},
   "outputs": [],
   "source": [
    "products_list = []\n",
    "for element in final_data:\n",
    "    products_list.append(final_data[element])"
   ]
  },
  {
   "cell_type": "code",
   "execution_count": 178,
   "id": "6b257ecd",
   "metadata": {},
   "outputs": [],
   "source": [
    "with open(\"data.csv\", 'w', encoding=\"utf-8\") as file:\n",
    "    wr = csv.DictWriter(file, fieldnames = columns)\n",
    "    wr.writeheader()\n",
    "    wr.writerows(products_list)"
   ]
  },
  {
   "cell_type": "code",
   "execution_count": 3,
   "id": "f53580d7",
   "metadata": {},
   "outputs": [],
   "source": [
    "df = pd.read_csv('data.csv')"
   ]
  },
  {
   "cell_type": "code",
   "execution_count": 4,
   "id": "c1a26b7d",
   "metadata": {},
   "outputs": [
    {
     "data": {
      "text/html": [
       "<div>\n",
       "<style scoped>\n",
       "    .dataframe tbody tr th:only-of-type {\n",
       "        vertical-align: middle;\n",
       "    }\n",
       "\n",
       "    .dataframe tbody tr th {\n",
       "        vertical-align: top;\n",
       "    }\n",
       "\n",
       "    .dataframe thead th {\n",
       "        text-align: right;\n",
       "    }\n",
       "</style>\n",
       "<table border=\"1\" class=\"dataframe\">\n",
       "  <thead>\n",
       "    <tr style=\"text-align: right;\">\n",
       "      <th></th>\n",
       "      <th>id</th>\n",
       "      <th>name</th>\n",
       "      <th>brand</th>\n",
       "      <th>sale</th>\n",
       "      <th>priceU</th>\n",
       "      <th>salePriceU</th>\n",
       "      <th>rating</th>\n",
       "      <th>feedbacks</th>\n",
       "      <th>category_name</th>\n",
       "      <th>subcategory_name</th>\n",
       "      <th>sold_quantity</th>\n",
       "      <th>positive_feedbacks</th>\n",
       "      <th>negative_feedbacks</th>\n",
       "      <th>brand_answers</th>\n",
       "      <th>with_photos</th>\n",
       "    </tr>\n",
       "  </thead>\n",
       "  <tbody>\n",
       "    <tr>\n",
       "      <th>0</th>\n",
       "      <td>137792600</td>\n",
       "      <td>Блузка праздничная нарядная офисная белая черная</td>\n",
       "      <td>LADY OF THE MOON</td>\n",
       "      <td>78</td>\n",
       "      <td>4850.0</td>\n",
       "      <td>1067.0</td>\n",
       "      <td>5</td>\n",
       "      <td>3612</td>\n",
       "      <td>Блузки и рубашки</td>\n",
       "      <td>NaN</td>\n",
       "      <td>28700</td>\n",
       "      <td>92.0</td>\n",
       "      <td>8.0</td>\n",
       "      <td>86.0</td>\n",
       "      <td>70.0</td>\n",
       "    </tr>\n",
       "    <tr>\n",
       "      <th>1</th>\n",
       "      <td>23086008</td>\n",
       "      <td>Рубашка оверсайз</td>\n",
       "      <td>Life in StyIe</td>\n",
       "      <td>78</td>\n",
       "      <td>6000.0</td>\n",
       "      <td>1320.0</td>\n",
       "      <td>5</td>\n",
       "      <td>17605</td>\n",
       "      <td>Брюки</td>\n",
       "      <td>NaN</td>\n",
       "      <td>91700</td>\n",
       "      <td>6.0</td>\n",
       "      <td>94.0</td>\n",
       "      <td>0.0</td>\n",
       "      <td>100.0</td>\n",
       "    </tr>\n",
       "    <tr>\n",
       "      <th>2</th>\n",
       "      <td>38709879</td>\n",
       "      <td>Рубашка офисная оверсайз</td>\n",
       "      <td>Darya Selskaya</td>\n",
       "      <td>92</td>\n",
       "      <td>12937.0</td>\n",
       "      <td>1034.0</td>\n",
       "      <td>5</td>\n",
       "      <td>15532</td>\n",
       "      <td>Верхняя одежда</td>\n",
       "      <td>NaN</td>\n",
       "      <td>100000</td>\n",
       "      <td>96.0</td>\n",
       "      <td>4.0</td>\n",
       "      <td>100.0</td>\n",
       "      <td>100.0</td>\n",
       "    </tr>\n",
       "    <tr>\n",
       "      <th>3</th>\n",
       "      <td>121011147</td>\n",
       "      <td>Блузка офисная для девочки школьная</td>\n",
       "      <td>Camicia</td>\n",
       "      <td>83</td>\n",
       "      <td>5000.0</td>\n",
       "      <td>850.0</td>\n",
       "      <td>5</td>\n",
       "      <td>7569</td>\n",
       "      <td>Джемперы, водолазки и кардиганы</td>\n",
       "      <td>NaN</td>\n",
       "      <td>32000</td>\n",
       "      <td>24.0</td>\n",
       "      <td>76.0</td>\n",
       "      <td>0.0</td>\n",
       "      <td>80.0</td>\n",
       "    </tr>\n",
       "    <tr>\n",
       "      <th>4</th>\n",
       "      <td>80012708</td>\n",
       "      <td>Рубашка оверсайз базовая</td>\n",
       "      <td>Olesa Chugunova</td>\n",
       "      <td>80</td>\n",
       "      <td>6090.0</td>\n",
       "      <td>1218.0</td>\n",
       "      <td>5</td>\n",
       "      <td>6424</td>\n",
       "      <td>Джинсы</td>\n",
       "      <td>NaN</td>\n",
       "      <td>69500</td>\n",
       "      <td>98.0</td>\n",
       "      <td>2.0</td>\n",
       "      <td>0.0</td>\n",
       "      <td>100.0</td>\n",
       "    </tr>\n",
       "  </tbody>\n",
       "</table>\n",
       "</div>"
      ],
      "text/plain": [
       "          id                                              name  \\\n",
       "0  137792600  Блузка праздничная нарядная офисная белая черная   \n",
       "1   23086008                                  Рубашка оверсайз   \n",
       "2   38709879                          Рубашка офисная оверсайз   \n",
       "3  121011147               Блузка офисная для девочки школьная   \n",
       "4   80012708                          Рубашка оверсайз базовая   \n",
       "\n",
       "              brand  sale   priceU  salePriceU  rating  feedbacks  \\\n",
       "0  LADY OF THE MOON    78   4850.0      1067.0       5       3612   \n",
       "1     Life in StyIe    78   6000.0      1320.0       5      17605   \n",
       "2    Darya Selskaya    92  12937.0      1034.0       5      15532   \n",
       "3           Camicia    83   5000.0       850.0       5       7569   \n",
       "4   Olesa Chugunova    80   6090.0      1218.0       5       6424   \n",
       "\n",
       "                     category_name subcategory_name  sold_quantity  \\\n",
       "0                 Блузки и рубашки              NaN          28700   \n",
       "1                            Брюки              NaN          91700   \n",
       "2                   Верхняя одежда              NaN         100000   \n",
       "3  Джемперы, водолазки и кардиганы              NaN          32000   \n",
       "4                           Джинсы              NaN          69500   \n",
       "\n",
       "   positive_feedbacks  negative_feedbacks  brand_answers  with_photos  \n",
       "0                92.0                 8.0           86.0         70.0  \n",
       "1                 6.0                94.0            0.0        100.0  \n",
       "2                96.0                 4.0          100.0        100.0  \n",
       "3                24.0                76.0            0.0         80.0  \n",
       "4                98.0                 2.0            0.0        100.0  "
      ]
     },
     "execution_count": 4,
     "metadata": {},
     "output_type": "execute_result"
    }
   ],
   "source": [
    "df.head()"
   ]
  },
  {
   "cell_type": "code",
   "execution_count": 18,
   "id": "dabfe151",
   "metadata": {},
   "outputs": [
    {
     "name": "stdout",
     "output_type": "stream",
     "text": [
      "26\n"
     ]
    },
    {
     "data": {
      "text/plain": [
       "array(['Блузки и рубашки', 'Брюки', 'Верхняя одежда',\n",
       "       'Джемперы, водолазки и кардиганы', 'Джинсы', 'Комбинезоны',\n",
       "       'Костюмы', 'Лонгсливы', 'Пиджаки, жилеты и жакеты',\n",
       "       'Платья и сарафаны', 'Толстовки, свитшоты и худи', 'Туники',\n",
       "       'Футболки и топы', 'Халаты', 'Шорты', 'Юбки', 'Белье',\n",
       "       'Большие размеры', 'Будущие мамы', 'Для высоких', 'Для невысоких',\n",
       "       'Одежда для дома', 'Офис', 'Пляжная мода', 'Религиозная',\n",
       "       'Свадьба'], dtype=object)"
      ]
     },
     "execution_count": 18,
     "metadata": {},
     "output_type": "execute_result"
    }
   ],
   "source": [
    "print(len(df[\"category_name\"].unique()))\n",
    "categories = df[\"category_name\"].unique()\n",
    "categories"
   ]
  },
  {
   "cell_type": "code",
   "execution_count": 150,
   "id": "6271b080",
   "metadata": {},
   "outputs": [],
   "source": [
    "number_columns = [\"sale\", \"priceU\", \"salePriceU\", \"rating\", \"feedbacks\", \"sold_quantity\", \"positive_feedbacks\",\n",
    "                  \"negative_feedbacks\", \"brand_answers\", \"with_photos\"]"
   ]
  },
  {
   "cell_type": "code",
   "execution_count": null,
   "id": "eadbe206",
   "metadata": {},
   "outputs": [],
   "source": [
    "#Меры центральной тенденции"
   ]
  },
  {
   "cell_type": "code",
   "execution_count": 185,
   "id": "2e2aa45a",
   "metadata": {},
   "outputs": [
    {
     "name": "stdout",
     "output_type": "stream",
     "text": [
      "                         Variable     Mean\n",
      "0                          Скидка    52.49\n",
      "1                 Цена без скидки  4724.90\n",
      "2                 Цена со скидкой  1961.60\n",
      "3                         Рейтинг     4.56\n",
      "4              Количество отзывов  1587.14\n",
      "5               Количество продаж  6068.18\n",
      "6            Положительные отзывы    70.70\n",
      "7            Отрицательные отзывы    32.56\n",
      "8  % отзывов с ответами от бренда    76.91\n",
      "9        % отзывов с фотографиями    28.34\n"
     ]
    }
   ],
   "source": [
    "mean_values = {'Variable': ['Скидка', 'Цена без скидки', 'Цена со скидкой', 'Рейтинг', 'Количество отзывов',\n",
    "                            'Количество продаж', 'Положительные отзывы', 'Отрицательные отзывы',\n",
    "                            '% отзывов с ответами от бренда', '% отзывов с фотографиями'],\n",
    "               'Mean': [df['sale'].mean(), df['priceU'].mean(), df['salePriceU'].mean(), df['rating'].mean(),\n",
    "                        df['feedbacks'].mean(), df['sold_quantity'].mean(), df['positive_feedbacks'].mean(),\n",
    "                        df['negative_feedbacks'].mean(), df['brand_answers'].mean(), df['with_photos'].mean()]}\n",
    "\n",
    "for i in range(len(mean_values[\"Mean\"])):\n",
    "    mean_values[\"Mean\"][i] = round(mean_values[\"Mean\"][i], 2)\n",
    "    \n",
    "mean_df = pd.DataFrame(mean_values)\n",
    "print(mean_df)"
   ]
  },
  {
   "cell_type": "code",
   "execution_count": 161,
   "id": "7ff3b4cb",
   "metadata": {},
   "outputs": [
    {
     "name": "stdout",
     "output_type": "stream",
     "text": [
      "                         Variable  Блузки и рубашки     Брюки  Верхняя одежда  \\\n",
      "0                          Скидка             55.06     55.36           56.00   \n",
      "1                 Цена без скидки           4761.91   4904.50         4571.62   \n",
      "2                 Цена со скидкой           1876.83   2037.16         1776.88   \n",
      "3                         Рейтинг              4.86      4.85            4.85   \n",
      "4              Количество отзывов           4716.03   4480.40         4147.77   \n",
      "5               Количество продаж          28179.21  24899.21        21931.20   \n",
      "6            Положительные отзывы             71.83     71.19           71.53   \n",
      "7            Отрицательные отзывы             27.53     28.74           28.33   \n",
      "8  % отзывов с ответами от бренда             70.47     71.79           73.66   \n",
      "9        % отзывов с фотографиями             40.10     33.51           38.00   \n",
      "\n",
      "   Джемперы, водолазки и кардиганы    Джинсы  Комбинезоны   Костюмы  \\\n",
      "0                            52.91     54.27        55.22     54.88   \n",
      "1                          4570.93   4417.39      4841.45   5453.91   \n",
      "2                          1775.95   1756.78      1867.57   2429.85   \n",
      "3                             4.86      4.84         4.80      4.83   \n",
      "4                          3462.57   3398.48      3060.95   2990.84   \n",
      "5                         19263.07  18529.89     16409.05  13915.90   \n",
      "6                            71.86     72.05        73.41     71.24   \n",
      "7                            29.50     28.54        27.84     29.61   \n",
      "8                            69.70     70.74        73.74     70.28   \n",
      "9                            41.22     40.47        34.46     34.66   \n",
      "\n",
      "   Лонгсливы  Пиджаки, жилеты и жакеты  Платья и сарафаны  \\\n",
      "0      54.77                     54.76              53.63   \n",
      "1    4842.22                   5570.66            4900.27   \n",
      "2    1817.59                   2137.59            1961.35   \n",
      "3       4.78                      4.85               4.73   \n",
      "4    2595.08                   2914.06            2147.78   \n",
      "5   12777.48                  13797.27            9693.32   \n",
      "6      69.50                     71.82              71.51   \n",
      "7      30.89                     29.37              30.57   \n",
      "8      74.04                     76.13              75.33   \n",
      "9      31.08                     35.95              30.90   \n",
      "\n",
      "   Толстовки, свитшоты и худи   Туники  Футболки и топы   Халаты    Шорты  \\\n",
      "0                       52.81    52.60            53.43    52.08    52.69   \n",
      "1                     5884.46  4647.46          4824.49  5481.67  4578.74   \n",
      "2                     2338.13  1955.89          2019.44  2351.14  1932.69   \n",
      "3                        4.68     4.70             4.66     4.73     4.70   \n",
      "4                     1829.48  1499.56          1495.28  1720.18  1884.38   \n",
      "5                     6985.08  6744.02          6764.67  5858.92  6734.01   \n",
      "6                       72.53    72.82            70.00    70.33    70.29   \n",
      "7                       32.89    31.25            30.95    32.92    32.06   \n",
      "8                       79.81    69.39            74.77    75.28    74.68   \n",
      "9                       26.74    28.14            27.45    26.10    29.10   \n",
      "\n",
      "      Юбки    Белье  Большие размеры  Будущие мамы  Для высоких  \\\n",
      "0    53.20    52.60            52.73         52.42        51.26   \n",
      "1  4618.11  4794.86          4683.63       4706.84      5152.58   \n",
      "2  1917.39  1973.63          1930.90       1994.51      2178.96   \n",
      "3     4.66     4.62             4.57          4.50         4.43   \n",
      "4  1672.88  1562.05          1445.59       1283.14       980.82   \n",
      "5  6511.29  5539.85          4544.83       3723.10      3109.04   \n",
      "6    69.13    72.07            70.29         69.91        71.33   \n",
      "7    32.50    31.71            32.42         33.59        32.85   \n",
      "8    73.93    76.37            77.43         78.55        80.32   \n",
      "9    29.06    28.61            27.14         27.51        24.55   \n",
      "\n",
      "   Для невысоких  Одежда для дома     Офис  Пляжная мода  Религиозная  Свадьба  \n",
      "0          51.67            51.44    51.58         50.54        50.71    51.02  \n",
      "1        4481.94          4445.17  4784.10       4354.78      4815.75  4457.45  \n",
      "2        1917.66          1905.64  2027.65       1860.27      2059.64  1869.23  \n",
      "3           4.44             4.42     4.37          4.44         4.36     4.37  \n",
      "4        1205.04          1131.77  1014.42        915.37       991.67   893.15  \n",
      "5        3397.25          3191.21  2790.24       2737.35      2632.52  2477.81  \n",
      "6          66.95            69.68    70.93         70.71        68.89    69.81  \n",
      "7          33.51            34.93    34.36         33.52        33.83    35.01  \n",
      "8          80.58            78.15    79.60         77.81        77.87    77.66  \n",
      "9          25.74            27.18    25.87         24.34        24.33    24.94  \n"
     ]
    }
   ],
   "source": [
    "pd.set_option('display.max_columns', None)\n",
    "mean_values_categories = {'Variable': ['Скидка', 'Цена без скидки', 'Цена со скидкой', 'Рейтинг', 'Количество отзывов',\n",
    "                            'Количество продаж', 'Положительные отзывы', 'Отрицательные отзывы',\n",
    "                            '% отзывов с ответами от бренда', '% отзывов с фотографиями']}\n",
    "\n",
    "for i in categories:\n",
    "    mean_values_categories[i] = []\n",
    "    for j in range(len(number_columns)):\n",
    "        mean_values_categories[i].append(round(df[df[\"category_name\"] == i][number_columns[j]].mean(), 2))\n",
    "    \n",
    "mean_df_categories = pd.DataFrame(mean_values_categories)\n",
    "print(mean_df_categories)"
   ]
  },
  {
   "cell_type": "code",
   "execution_count": 186,
   "id": "af5ce80c",
   "metadata": {},
   "outputs": [
    {
     "name": "stdout",
     "output_type": "stream",
     "text": [
      "                         Variable  Median\n",
      "0                          Скидка      55\n",
      "1                 Цена без скидки    3150\n",
      "2                 Цена со скидкой    1339\n",
      "3                         Рейтинг       5\n",
      "4              Количество отзывов     259\n",
      "5               Количество продаж     900\n",
      "6            Положительные отзывы      70\n",
      "7            Отрицательные отзывы      30\n",
      "8  % отзывов с ответами от бренда      96\n",
      "9        % отзывов с фотографиями      20\n"
     ]
    }
   ],
   "source": [
    "median_values = {'Variable': ['Скидка', 'Цена без скидки', 'Цена со скидкой', 'Рейтинг', 'Количество отзывов',\n",
    "                            'Количество продаж', 'Положительные отзывы', 'Отрицательные отзывы',\n",
    "                            '% отзывов с ответами от бренда', '% отзывов с фотографиями'],\n",
    "               'Median': [df['sale'].median(), df['priceU'].median(), df['salePriceU'].median(), df['rating'].median(),\n",
    "                        df['feedbacks'].median(), df['sold_quantity'].median(), df['positive_feedbacks'].median(),\n",
    "                        df['negative_feedbacks'].median(), df['brand_answers'].median(), df['with_photos'].median()]}\n",
    "\n",
    "for i in range(len(median_values[\"Median\"])):\n",
    "    median_values[\"Median\"][i] = round(median_values[\"Median\"][i])\n",
    "    \n",
    "median_df = pd.DataFrame(median_values)\n",
    "print(median_df)"
   ]
  },
  {
   "cell_type": "code",
   "execution_count": 187,
   "id": "4b898c52",
   "metadata": {},
   "outputs": [
    {
     "name": "stdout",
     "output_type": "stream",
     "text": [
      "                         Variable  Блузки и рубашки  Брюки  Верхняя одежда  \\\n",
      "0                          Скидка                56     58              58   \n",
      "1                 Цена без скидки              3290   3340            3290   \n",
      "2                 Цена со скидкой              1229   1291            1242   \n",
      "3                         Рейтинг                 5      5               5   \n",
      "4              Количество отзывов              1808   1394            1304   \n",
      "5               Количество продаж             14500   9100            7800   \n",
      "6            Положительные отзывы                74     74              74   \n",
      "7            Отрицательные отзывы                26     27              26   \n",
      "8  % отзывов с ответами от бренда                92     94              96   \n",
      "9        % отзывов с фотографиями                24     22              24   \n",
      "\n",
      "   Джемперы, водолазки и кардиганы  Джинсы  Комбинезоны  Костюмы  Лонгсливы  \\\n",
      "0                               56      57           58       56         56   \n",
      "1                             2985    3180         3045     3543       3300   \n",
      "2                             1260    1210         1318     1280       1332   \n",
      "3                                5       5            5        5          5   \n",
      "4                             1162    1011          932      948        811   \n",
      "5                             6450    7000         4950     4950       3900   \n",
      "6                               74      74           72       72         72   \n",
      "7                               27      26           28       28         28   \n",
      "8                               92      94           92       93         92   \n",
      "9                               26      28           22       22         22   \n",
      "\n",
      "   Пиджаки, жилеты и жакеты  Платья и сарафаны  Толстовки, свитшоты и худи  \\\n",
      "0                        57                 56                          55   \n",
      "1                      3400               3393                        3250   \n",
      "2                      1457               1372                        1305   \n",
      "3                         5                  5                           5   \n",
      "4                       903                577                         430   \n",
      "5                      3300               2400                        1800   \n",
      "6                        72                 72                          71   \n",
      "7                        28                 28                          30   \n",
      "8                        96                 94                          96   \n",
      "9                        24                 20                          18   \n",
      "\n",
      "   Туники  Футболки и топы  Халаты  Шорты  Юбки  Белье  Большие размеры  \\\n",
      "0      54               56      52     53    55     54               55   \n",
      "1    3096             3377    3290   3036  3245   3200             3100   \n",
      "2    1401             1400    1348   1380  1320   1380             1320   \n",
      "3       5                5       5      5     5      5                5   \n",
      "4     338              379     322    377   389    296              233   \n",
      "5    1500             1700    1500   1800  1500   1100              800   \n",
      "6      71               72      72     70    72     72               70   \n",
      "7      30               28      30     30    30     30               30   \n",
      "8      92               96      94     94    94     96               96   \n",
      "9      20               18      19     20    18     20               20   \n",
      "\n",
      "   Будущие мамы  Для высоких  Для невысоких  Одежда для дома  Офис  \\\n",
      "0            55           53             52               53    54   \n",
      "1          3099         2990           3369             3000  3058   \n",
      "2          1356         1328           1365             1333  1312   \n",
      "3             5            5              5                5     5   \n",
      "4           177          148            142              134   108   \n",
      "5           600          500            500              400   300   \n",
      "6            70           70             68               70    70   \n",
      "7            30           32             32               32    32   \n",
      "8            96           96             96               96    96   \n",
      "9            19           18             19               20    19   \n",
      "\n",
      "   Пляжная мода  Религиозная  Свадьба  \n",
      "0            53           53       53  \n",
      "1          3000         3037     3000  \n",
      "2          1285         1380     1305  \n",
      "3             5            5        5  \n",
      "4           105          104      101  \n",
      "5           300          250      300  \n",
      "6            70           70       70  \n",
      "7            32           32       32  \n",
      "8            96           96       96  \n",
      "9            17           18       19  \n"
     ]
    }
   ],
   "source": [
    "median_values_categories = {'Variable': ['Скидка', 'Цена без скидки', 'Цена со скидкой', 'Рейтинг',\n",
    "                                         'Количество отзывов', 'Количество продаж', 'Положительные отзывы',\n",
    "                                         'Отрицательные отзывы', '% отзывов с ответами от бренда', '% отзывов с фотографиями']}\n",
    "\n",
    "for i in categories:\n",
    "    median_values_categories[i] = []\n",
    "    for j in range(len(number_columns)):\n",
    "        median_values_categories[i].append(round(df[df[\"category_name\"] == i][number_columns[j]].median()))\n",
    "    \n",
    "median_df_categories = pd.DataFrame(median_values_categories)\n",
    "print(median_df_categories)"
   ]
  },
  {
   "cell_type": "code",
   "execution_count": 9,
   "id": "abba6277",
   "metadata": {},
   "outputs": [
    {
     "name": "stdout",
     "output_type": "stream",
     "text": [
      "                            OLS Regression Results                            \n",
      "==============================================================================\n",
      "Dep. Variable:          sold_quantity   R-squared:                       0.437\n",
      "Model:                            OLS   Adj. R-squared:                  0.437\n",
      "Method:                 Least Squares   F-statistic:                     1928.\n",
      "Date:                Fri, 19 May 2023   Prob (F-statistic):               0.00\n",
      "Time:                        13:03:53   Log-Likelihood:            -2.4080e+05\n",
      "No. Observations:               22354   AIC:                         4.816e+05\n",
      "Df Residuals:                   22344   BIC:                         4.817e+05\n",
      "Df Model:                           9                                         \n",
      "Covariance Type:            nonrobust                                         \n",
      "======================================================================================\n",
      "                         coef    std err          t      P>|t|      [0.025      0.975]\n",
      "--------------------------------------------------------------------------------------\n",
      "const                485.7197    800.231      0.607      0.544   -1082.790    2054.230\n",
      "sale                  29.9383      4.564      6.560      0.000      20.993      38.884\n",
      "priceU                -0.1202      0.021     -5.615      0.000      -0.162      -0.078\n",
      "salePriceU            -0.0022      0.047     -0.047      0.962      -0.094       0.089\n",
      "rating               299.7658    149.928      1.999      0.046       5.897     593.634\n",
      "feedbacks              2.7117      0.025    110.351      0.000       2.664       2.760\n",
      "positive_feedbacks    25.4135      3.410      7.452      0.000      18.729      32.098\n",
      "negative_feedbacks     4.1169      4.620      0.891      0.373      -4.940      13.173\n",
      "brand_answers        -25.2414      2.007    -12.576      0.000     -29.176     -21.307\n",
      "with_photos          -33.6426      3.324    -10.120      0.000     -40.159     -27.127\n",
      "==============================================================================\n",
      "Omnibus:                    13601.312   Durbin-Watson:                   1.362\n",
      "Prob(Omnibus):                  0.000   Jarque-Bera (JB):           364760.848\n",
      "Skew:                           2.459   Prob(JB):                         0.00\n",
      "Kurtosis:                      22.168   Cond. No.                     1.01e+05\n",
      "==============================================================================\n",
      "\n",
      "Notes:\n",
      "[1] Standard Errors assume that the covariance matrix of the errors is correctly specified.\n",
      "[2] The condition number is large, 1.01e+05. This might indicate that there are\n",
      "strong multicollinearity or other numerical problems.\n"
     ]
    }
   ],
   "source": [
    "# Определение зависимой переменной и независимых переменных\n",
    "df_without_nan = df.dropna(subset=['positive_feedbacks'])\n",
    "X = df_without_nan[['sale', 'priceU', 'salePriceU', 'rating', 'feedbacks', 'positive_feedbacks', 'negative_feedbacks',\n",
    "                    'brand_answers', 'with_photos']]\n",
    "y = df_without_nan['sold_quantity'] \n",
    "\n",
    "# Добавление константы\n",
    "X = sm.add_constant(X)\n",
    "\n",
    "# Построение модели множественной линейной регрессии\n",
    "model = sm.OLS(y, X)\n",
    "results = model.fit()\n",
    "\n",
    "# Вывод результатов\n",
    "print(results.summary())"
   ]
  },
  {
   "cell_type": "code",
   "execution_count": 10,
   "id": "456ae720",
   "metadata": {},
   "outputs": [
    {
     "name": "stdout",
     "output_type": "stream",
     "text": [
      "Коэффициент корреляции Пирсона: 0.65\n",
      "p-значение: 0.0\n"
     ]
    }
   ],
   "source": [
    "# H1\n",
    "reviews = df['feedbacks']\n",
    "sales = df['sold_quantity']\n",
    "\n",
    "pearson_corr, pearson_p_value = stats.pearsonr(reviews, sales)\n",
    "\n",
    "print(f'Коэффициент корреляции Пирсона: {round(pearson_corr, 2)}')\n",
    "print(f'p-значение: {pearson_p_value}')"
   ]
  },
  {
   "cell_type": "code",
   "execution_count": 11,
   "id": "e2dc42e2",
   "metadata": {},
   "outputs": [
    {
     "name": "stdout",
     "output_type": "stream",
     "text": [
      "Коэффициент корреляции Пирсона: 0.01\n",
      "p-значение: 0.16\n"
     ]
    }
   ],
   "source": [
    "# H1a\n",
    "df_without_nan = df.dropna(subset=['positive_feedbacks'])\n",
    "\n",
    "positive_reviews = df_without_nan['positive_feedbacks']\n",
    "sales = df_without_nan['sold_quantity']\n",
    "\n",
    "corr_coeff, p_value = stats.pearsonr(positive_reviews, sales)\n",
    "\n",
    "print(\"Коэффициент корреляции Пирсона:\", round(corr_coeff, 2))\n",
    "print(\"p-значение:\", round(p_value, 2))"
   ]
  },
  {
   "cell_type": "code",
   "execution_count": 63,
   "id": "2f9561c9",
   "metadata": {},
   "outputs": [
    {
     "name": "stdout",
     "output_type": "stream",
     "text": [
      "Коэффициент Спирмена: 0.02\n",
      "p-значение: 0.0\n"
     ]
    }
   ],
   "source": [
    "from scipy.stats import spearmanr\n",
    "df_without_nan = df.dropna(subset=['positive_feedbacks'])\n",
    "\n",
    "positive_reviews = df_without_nan['positive_feedbacks']\n",
    "sales = df_without_nan['sold_quantity']\n",
    "\n",
    "correlation, p_value = spearmanr(positive_reviews, sales)\n",
    "\n",
    "print(\"Коэффициент Спирмена:\", round(correlation, 2))\n",
    "print(\"p-значение:\", round(p_value, 2))"
   ]
  },
  {
   "cell_type": "code",
   "execution_count": 16,
   "id": "136dcd46",
   "metadata": {},
   "outputs": [
    {
     "name": "stdout",
     "output_type": "stream",
     "text": [
      "Коэффициент корреляции Пирсона: -0.09\n",
      "p-значение: 0.0\n"
     ]
    }
   ],
   "source": [
    "# H1b\n",
    "df_without_nan = df.dropna(subset=['negative_feedbacks'])\n",
    "\n",
    "negative_reviews = df_without_nan['negative_feedbacks']\n",
    "sales = df_without_nan['sold_quantity']\n",
    "\n",
    "corr_coeff, p_value = stats.pearsonr(negative_reviews, sales)\n",
    "\n",
    "print(\"Коэффициент корреляции Пирсона:\", round(corr_coeff, 2))\n",
    "print(\"p-значение:\", round(p_value, 2))"
   ]
  },
  {
   "cell_type": "code",
   "execution_count": 37,
   "id": "a8c44875",
   "metadata": {},
   "outputs": [
    {
     "name": "stdout",
     "output_type": "stream",
     "text": [
      "coef = 0.79; p = 0.0 - Блузки и рубашки\n",
      "coef = 0.74; p = 0.0 - Брюки\n",
      "coef = 0.8; p = 0.0 - Верхняя одежда\n",
      "coef = 0.78; p = 0.0 - Джемперы, водолазки и кардиганы\n",
      "coef = 0.77; p = 0.0 - Джинсы\n",
      "coef = 0.71; p = 0.0 - Комбинезоны\n",
      "coef = 0.68; p = 0.0 - Костюмы\n",
      "coef = 0.73; p = 0.0 - Лонгсливы\n",
      "coef = 0.67; p = 0.0 - Пиджаки, жилеты и жакеты\n",
      "coef = 0.67; p = 0.0 - Платья и сарафаны\n",
      "coef = 0.7; p = 0.0 - Толстовки, свитшоты и худи\n",
      "coef = 0.73; p = 0.0 - Туники\n",
      "coef = 0.69; p = 0.0 - Футболки и топы\n",
      "coef = 0.5; p = 0.0 - Халаты\n",
      "coef = 0.47; p = 0.0 - Шорты\n",
      "coef = 0.64; p = 0.0 - Юбки\n",
      "coef = 0.6; p = 0.0 - Белье\n",
      "coef = 0.55; p = 0.0 - Большие размеры\n",
      "coef = 0.56; p = 0.0 - Будущие мамы\n",
      "coef = 0.46; p = 0.0 - Для высоких\n",
      "coef = 0.57; p = 0.0 - Для невысоких\n",
      "coef = 0.62; p = 0.0 - Одежда для дома\n",
      "coef = 0.52; p = 0.0 - Офис\n",
      "coef = 0.52; p = 0.0 - Пляжная мода\n",
      "coef = 0.52; p = 0.0 - Религиозная\n",
      "coef = 0.51; p = 0.0 - Свадьба\n"
     ]
    }
   ],
   "source": [
    "# H1c\n",
    "for i in df[\"category_name\"].unique():\n",
    "    reviews_category = df[df[\"category_name\"] == i][\"feedbacks\"]\n",
    "    sales_category = df[df[\"category_name\"] == i][\"sold_quantity\"]\n",
    "    pearson_corr, pearson_p_value = stats.pearsonr(reviews_category, sales_category)\n",
    "    print(f'coef = {round(pearson_corr, 2)}; p = {round(pearson_p_value, 3)} - {i}')"
   ]
  },
  {
   "cell_type": "code",
   "execution_count": 38,
   "id": "9393f079",
   "metadata": {},
   "outputs": [
    {
     "name": "stdout",
     "output_type": "stream",
     "text": [
      "coef = 0.18; p = 0.007 - Блузки и рубашки\n",
      "coef = 0.11; p = 0.092 - Брюки\n",
      "coef = 0.05; p = 0.415 - Верхняя одежда\n",
      "coef = 0.13; p = 0.048 - Джемперы, водолазки и кардиганы\n",
      "coef = 0.2; p = 0.003 - Джинсы\n",
      "coef = 0.1; p = 0.108 - Комбинезоны\n",
      "coef = 0.08; p = 0.26 - Костюмы\n",
      "coef = 0.01; p = 0.861 - Лонгсливы\n",
      "coef = 0.02; p = 0.78 - Пиджаки, жилеты и жакеты\n",
      "coef = 0.03; p = 0.11 - Платья и сарафаны\n",
      "coef = 0.06; p = 0.346 - Толстовки, свитшоты и худи\n",
      "coef = -0.03; p = 0.664 - Туники\n",
      "coef = 0.04; p = 0.589 - Футболки и топы\n",
      "coef = 0.16; p = 0.011 - Халаты\n",
      "coef = 0.05; p = 0.46 - Шорты\n",
      "coef = 0.11; p = 0.113 - Юбки\n",
      "coef = 0.01; p = 0.478 - Белье\n",
      "coef = -0.04; p = 0.028 - Большие размеры\n",
      "coef = -0.01; p = 0.557 - Будущие мамы\n",
      "coef = 0.01; p = 0.834 - Для высоких\n",
      "coef = 0.1; p = 0.136 - Для невысоких\n",
      "coef = -0.03; p = 0.19 - Одежда для дома\n",
      "coef = -0.03; p = 0.26 - Офис\n",
      "coef = -0.0; p = 0.962 - Пляжная мода\n",
      "coef = 0.02; p = 0.713 - Религиозная\n",
      "coef = -0.0; p = 0.934 - Свадьба\n"
     ]
    }
   ],
   "source": [
    "# H1d\n",
    "df_without_nan = df.dropna(subset=['positive_feedbacks'])\n",
    "for i in df_without_nan[\"category_name\"].unique():\n",
    "    positive_reviews = df_without_nan[df_without_nan[\"category_name\"] == i][\"positive_feedbacks\"]\n",
    "    sales_category = df_without_nan[df_without_nan[\"category_name\"] == i][\"sold_quantity\"]\n",
    "    correlation, p_value = spearmanr(positive_reviews, sales_category)\n",
    "    print(f'coef = {round(correlation, 2)}; p = {round(p_value, 3)} - {i}')"
   ]
  },
  {
   "cell_type": "code",
   "execution_count": 45,
   "id": "47cbb9e0",
   "metadata": {},
   "outputs": [
    {
     "name": "stdout",
     "output_type": "stream",
     "text": [
      "coef = 0.08; p = 0.076 - Брюки\n",
      "coef = 0.04; p = 0.393 - Верхняя одежда\n",
      "coef = 0.08; p = 0.081 - Комбинезоны\n",
      "coef = 0.05; p = 0.241 - Костюмы\n",
      "coef = 0.01; p = 0.875 - Лонгсливы\n",
      "coef = 0.02; p = 0.709 - Пиджаки, жилеты и жакеты\n",
      "coef = 0.02; p = 0.07 - Платья и сарафаны\n",
      "coef = 0.05; p = 0.306 - Толстовки, свитшоты и худи\n",
      "coef = -0.03; p = 0.58 - Туники\n",
      "coef = 0.03; p = 0.544 - Футболки и топы\n",
      "coef = 0.04; p = 0.386 - Шорты\n",
      "coef = 0.08; p = 0.066 - Юбки\n",
      "coef = 0.01; p = 0.368 - Белье\n",
      "coef = -0.01; p = 0.614 - Будущие мамы\n",
      "coef = 0.01; p = 0.786 - Для высоких\n",
      "coef = 0.07; p = 0.114 - Для невысоких\n",
      "coef = -0.02; p = 0.212 - Одежда для дома\n",
      "coef = -0.01; p = 0.351 - Офис\n",
      "coef = 0.0; p = 0.995 - Пляжная мода\n",
      "coef = 0.01; p = 0.743 - Религиозная\n",
      "coef = -0.0; p = 0.997 - Свадьба\n"
     ]
    }
   ],
   "source": [
    "from scipy.stats import kendalltau\n",
    "df_without_nan = df.dropna(subset=['positive_feedbacks'])\n",
    "for i in df_without_nan[\"category_name\"].unique():\n",
    "    if i != \"Блузки и рубашки\" and i != \"Джемперы, водолазки и кардиганы\" and i != \"Джинсы\" and i != \"Халаты\"\\\n",
    "    and i != \"Большие размеры\":\n",
    "        positive_reviews = df_without_nan[df_without_nan[\"category_name\"] == i][\"positive_feedbacks\"]\n",
    "        sales_category = df_without_nan[df_without_nan[\"category_name\"] == i][\"sold_quantity\"]\n",
    "        correlation, p_value = kendalltau(positive_reviews, sales_category)\n",
    "        print(f'coef = {round(correlation, 2)}; p = {round(p_value, 3)} - {i}')"
   ]
  },
  {
   "cell_type": "code",
   "execution_count": 46,
   "id": "8694e556",
   "metadata": {},
   "outputs": [
    {
     "name": "stdout",
     "output_type": "stream",
     "text": [
      "coef = -0.05; p = 0.477 - Блузки и рубашки\n",
      "coef = -0.06; p = 0.332 - Брюки\n",
      "coef = -0.05; p = 0.416 - Верхняя одежда\n",
      "coef = -0.14; p = 0.044 - Джемперы, водолазки и кардиганы\n",
      "coef = -0.23; p = 0.0 - Джинсы\n",
      "coef = -0.12; p = 0.063 - Комбинезоны\n",
      "coef = -0.1; p = 0.147 - Костюмы\n",
      "coef = -0.05; p = 0.478 - Лонгсливы\n",
      "coef = 0.0; p = 0.957 - Пиджаки, жилеты и жакеты\n",
      "coef = -0.09; p = 0.0 - Платья и сарафаны\n",
      "coef = -0.03; p = 0.619 - Толстовки, свитшоты и худи\n",
      "coef = -0.1; p = 0.134 - Туники\n",
      "coef = -0.15; p = 0.025 - Футболки и топы\n",
      "coef = -0.19; p = 0.003 - Халаты\n",
      "coef = -0.08; p = 0.223 - Шорты\n",
      "coef = -0.08; p = 0.262 - Юбки\n",
      "coef = -0.11; p = 0.0 - Белье\n",
      "coef = -0.05; p = 0.004 - Большие размеры\n",
      "coef = -0.06; p = 0.0 - Будущие мамы\n",
      "coef = -0.19; p = 0.004 - Для высоких\n",
      "coef = -0.14; p = 0.031 - Для невысоких\n",
      "coef = -0.08; p = 0.0 - Одежда для дома\n",
      "coef = -0.07; p = 0.002 - Офис\n",
      "coef = -0.11; p = 0.004 - Пляжная мода\n",
      "coef = -0.1; p = 0.03 - Религиозная\n",
      "coef = -0.08; p = 0.003 - Свадьба\n"
     ]
    }
   ],
   "source": [
    "# H1e\n",
    "df_without_nan = df.dropna(subset=['negative_feedbacks'])\n",
    "for i in df_without_nan[\"category_name\"].unique():\n",
    "    negative_reviews = df_without_nan[df_without_nan[\"category_name\"] == i][\"negative_feedbacks\"]\n",
    "    sales_category = df_without_nan[df_without_nan[\"category_name\"] == i][\"sold_quantity\"]\n",
    "    correlation, p_value = stats.pearsonr(negative_reviews, sales_category)\n",
    "    print(f'coef = {round(correlation, 2)}; p = {round(p_value, 3)} - {i}')"
   ]
  },
  {
   "cell_type": "code",
   "execution_count": 47,
   "id": "e6102b25",
   "metadata": {},
   "outputs": [
    {
     "name": "stdout",
     "output_type": "stream",
     "text": [
      "coef = -0.18; p = 0.006 - Блузки и рубашки\n",
      "coef = -0.15; p = 0.019 - Брюки\n",
      "coef = -0.08; p = 0.209 - Верхняя одежда\n",
      "coef = -0.17; p = 0.007 - Комбинезоны\n",
      "coef = -0.1; p = 0.14 - Костюмы\n",
      "coef = -0.08; p = 0.269 - Лонгсливы\n",
      "coef = -0.11; p = 0.086 - Пиджаки, жилеты и жакеты\n",
      "coef = -0.17; p = 0.008 - Толстовки, свитшоты и худи\n",
      "coef = -0.06; p = 0.372 - Туники\n",
      "coef = -0.15; p = 0.026 - Шорты\n",
      "coef = -0.19; p = 0.004 - Юбки\n"
     ]
    }
   ],
   "source": [
    "df_without_nan = df.dropna(subset=['negative_feedbacks'])\n",
    "for i in df_without_nan[\"category_name\"].unique():\n",
    "    if i != \"Джемперы, водолазки и кардиганы\" and i != \"Джинсы\" and i != \"Платья и сарафаны\" and i != \"Футболки и топы\"\\\n",
    "    and i != \"Халаты\" and i != \"Белье\" and i != \"Большие размеры\" and i != \"Будущие мамы\" and i != \"Для высоких\"\\\n",
    "    and i != \"Для невысоких\" and i != \"Одежда для дома\" and i != \"Офис\" and i != \"Пляжная мода\" and i != \"Религиозная\"\\\n",
    "    and i != \"Свадьба\":\n",
    "        negative_reviews = df_without_nan[df_without_nan[\"category_name\"] == i][\"negative_feedbacks\"]\n",
    "        sales_category = df_without_nan[df_without_nan[\"category_name\"] == i][\"sold_quantity\"]\n",
    "        correlation, p_value = spearmanr(negative_reviews, sales_category)\n",
    "        print(f'coef = {round(correlation, 2)}; p = {round(p_value, 3)} - {i}')"
   ]
  },
  {
   "cell_type": "code",
   "execution_count": 49,
   "id": "1f4599b6",
   "metadata": {},
   "outputs": [
    {
     "name": "stdout",
     "output_type": "stream",
     "text": [
      "coef = -0.06; p = 0.19 - Верхняя одежда\n",
      "coef = -0.07; p = 0.129 - Костюмы\n",
      "coef = -0.05; p = 0.272 - Лонгсливы\n",
      "coef = -0.08; p = 0.07 - Пиджаки, жилеты и жакеты\n",
      "coef = -0.04; p = 0.402 - Туники\n"
     ]
    }
   ],
   "source": [
    "df_without_nan = df.dropna(subset=['negative_feedbacks'])\n",
    "for i in df_without_nan[\"category_name\"].unique():\n",
    "    if i != \"Джемперы, водолазки и кардиганы\" and i != \"Джинсы\" and i != \"Платья и сарафаны\" and i != \"Футболки и топы\"\\\n",
    "    and i != \"Халаты\" and i != \"Белье\" and i != \"Большие размеры\" and i != \"Будущие мамы\" and i != \"Для высоких\"\\\n",
    "    and i != \"Для невысоких\" and i != \"Одежда для дома\" and i != \"Офис\" and i != \"Пляжная мода\" and i != \"Религиозная\"\\\n",
    "    and i != \"Свадьба\" and i != \"Блузки и рубашки\" and i != \"Брюки\" and i != \"Комбинезоны\" and i !=\\\n",
    "    \"Толстовки, свитшоты и худи\" and i != \"Шорты\" and i != \"Юбки\":\n",
    "        negative_reviews = df_without_nan[df_without_nan[\"category_name\"] == i][\"negative_feedbacks\"]\n",
    "        sales_category = df_without_nan[df_without_nan[\"category_name\"] == i][\"sold_quantity\"]\n",
    "        correlation, p_value = kendalltau(negative_reviews, sales_category)\n",
    "        print(f'coef = {round(correlation, 2)}; p = {round(p_value, 3)} - {i}')"
   ]
  },
  {
   "cell_type": "code",
   "execution_count": 56,
   "id": "e8a3f81b",
   "metadata": {},
   "outputs": [
    {
     "name": "stdout",
     "output_type": "stream",
     "text": [
      "21.04\n",
      "0.0\n"
     ]
    }
   ],
   "source": [
    "# H2\n",
    "from scipy.stats import ttest_ind\n",
    "\n",
    "with_reviews = df[df['feedbacks'] > 0]['sold_quantity']\n",
    "without_reviews = df[df['feedbacks'] == 0]['sold_quantity']\n",
    "\n",
    "t_statistic, p_value = ttest_ind(with_reviews, without_reviews)\n",
    "\n",
    "print(round(t_statistic, 2))\n",
    "print(round(p_value, 3))"
   ]
  },
  {
   "cell_type": "code",
   "execution_count": 62,
   "id": "f0caf363",
   "metadata": {},
   "outputs": [
    {
     "name": "stderr",
     "output_type": "stream",
     "text": [
      "C:\\Users\\rayak\\AppData\\Local\\Temp\\ipykernel_11044\\1801843518.py:9: RuntimeWarning: Precision loss occurred in moment calculation due to catastrophic cancellation. This occurs when the data are nearly identical. Results may be unreliable.\n",
      "  t_statistic, p_value = ttest_ind(with_reviews, without_reviews)\n"
     ]
    },
    {
     "name": "stdout",
     "output_type": "stream",
     "text": [
      "t = 1.24; p = 0.216 - Блузки и рубашки\n",
      "t = 1.12; p = 0.265 - Брюки\n",
      "t = 1.3; p = 0.194 - Верхняя одежда\n",
      "t = 1.24; p = 0.214 - Джемперы, водолазки и кардиганы\n",
      "t = 1.37; p = 0.171 - Джинсы\n",
      "t = 1.97; p = 0.05 - Комбинезоны\n",
      "t = 1.48; p = 0.141 - Костюмы\n",
      "t = 1.61; p = 0.109 - Лонгсливы\n",
      "t = 1.31; p = 0.191 - Пиджаки, жилеты и жакеты\n",
      "t = 6.49; p = 0.0 - Платья и сарафаны\n",
      "t = 1.85; p = 0.065 - Толстовки, свитшоты и худи\n",
      "t = 1.59; p = 0.112 - Туники\n",
      "t = 2.12; p = 0.035 - Футболки и топы\n",
      "t = 1.64; p = 0.101 - Халаты\n",
      "t = 1.65; p = 0.1 - Шорты\n",
      "t = 1.99; p = 0.047 - Юбки\n",
      "t = 6.81; p = 0.0 - Белье\n",
      "t = 7.46; p = 0.0 - Большие размеры\n",
      "t = 8.31; p = 0.0 - Будущие мамы\n",
      "t = 2.42; p = 0.016 - Для высоких\n",
      "t = 1.99; p = 0.047 - Для невысоких\n",
      "t = 6.53; p = 0.0 - Одежда для дома\n",
      "t = 6.79; p = 0.0 - Офис\n",
      "t = 3.3; p = 0.001 - Пляжная мода\n",
      "t = 2.92; p = 0.004 - Религиозная\n",
      "t = 5.94; p = 0.0 - Свадьба\n"
     ]
    }
   ],
   "source": [
    "# H2a\n",
    "from scipy.stats import ttest_ind\n",
    "\n",
    "for i in df[\"category_name\"].unique():\n",
    "    df_category = df[df[\"category_name\"] == i]\n",
    "    with_reviews = df_category[df_category['feedbacks'] > 0][\"sold_quantity\"]\n",
    "    without_reviews = df_category[df_category['feedbacks'] == 0][\"sold_quantity\"]\n",
    "\n",
    "    t_statistic, p_value = ttest_ind(with_reviews, without_reviews)\n",
    "    print(f't = {round(t_statistic, 2)}; p = {round(p_value, 3)} - {i}')"
   ]
  },
  {
   "cell_type": "code",
   "execution_count": 66,
   "id": "b5302bd0",
   "metadata": {},
   "outputs": [
    {
     "name": "stdout",
     "output_type": "stream",
     "text": [
      "Коэффициент корреляции Пирсона: -0.06\n",
      "p-значение: 0.0\n"
     ]
    }
   ],
   "source": [
    "# H3\n",
    "price = df[\"priceU\"]\n",
    "sales = df[\"sold_quantity\"]\n",
    "\n",
    "corr_coef, p_value = stats.pearsonr(price, sales)\n",
    "\n",
    "print(\"Коэффициент корреляции Пирсона:\", round(corr_coef, 2))\n",
    "print(\"p-значение:\", round(p_value, 3))"
   ]
  },
  {
   "cell_type": "code",
   "execution_count": 68,
   "id": "4443dcf4",
   "metadata": {},
   "outputs": [
    {
     "name": "stdout",
     "output_type": "stream",
     "text": [
      "Коэффициент корреляции Пирсона: -0.1\n",
      "p-значение: 0.0\n"
     ]
    }
   ],
   "source": [
    "price = df[\"salePriceU\"]\n",
    "sales = df[\"sold_quantity\"]\n",
    "\n",
    "corr_coef, p_value = stats.pearsonr(price, sales)\n",
    "\n",
    "print(\"Коэффициент корреляции Пирсона:\", round(corr_coef, 2))\n",
    "print(\"p-значение:\", round(p_value, 3))"
   ]
  },
  {
   "cell_type": "code",
   "execution_count": 75,
   "id": "c280d114",
   "metadata": {},
   "outputs": [
    {
     "name": "stdout",
     "output_type": "stream",
     "text": [
      "                            OLS Regression Results                            \n",
      "==============================================================================\n",
      "Dep. Variable:          sold_quantity   R-squared:                       0.006\n",
      "Model:                            OLS   Adj. R-squared:                  0.006\n",
      "Method:                 Least Squares   F-statistic:                     68.49\n",
      "Date:                Fri, 19 May 2023   Prob (F-statistic):           2.21e-30\n",
      "Time:                        19:21:00   Log-Likelihood:            -2.4716e+05\n",
      "No. Observations:               22354   AIC:                         4.943e+05\n",
      "Df Residuals:                   22351   BIC:                         4.943e+05\n",
      "Df Model:                           2                                         \n",
      "Covariance Type:            nonrobust                                         \n",
      "======================================================================================\n",
      "                         coef    std err          t      P>|t|      [0.025      0.975]\n",
      "--------------------------------------------------------------------------------------\n",
      "const               7104.7326    278.314     25.528      0.000    6559.219    7650.247\n",
      "priceU                -0.1601      0.014    -11.619      0.000      -0.187      -0.133\n",
      "positive_feedbacks     4.1011      3.513      1.167      0.243      -2.784      10.987\n",
      "==============================================================================\n",
      "Omnibus:                    18514.375   Durbin-Watson:                   1.039\n",
      "Prob(Omnibus):                  0.000   Jarque-Bera (JB):           378774.107\n",
      "Skew:                           4.067   Prob(JB):                         0.00\n",
      "Kurtosis:                      21.453   Cond. No.                     2.42e+04\n",
      "==============================================================================\n",
      "\n",
      "Notes:\n",
      "[1] Standard Errors assume that the covariance matrix of the errors is correctly specified.\n",
      "[2] The condition number is large, 2.42e+04. This might indicate that there are\n",
      "strong multicollinearity or other numerical problems.\n"
     ]
    }
   ],
   "source": [
    "# H3a\n",
    "import statsmodels.api as sm\n",
    "df_without_nan = df.dropna(subset=['positive_feedbacks'])\n",
    "\n",
    "y = df_without_nan[\"sold_quantity\"]\n",
    "\n",
    "X = df_without_nan[[\"priceU\", \"positive_feedbacks\"]]\n",
    "\n",
    "X = sm.add_constant(X)\n",
    "\n",
    "model = sm.OLS(y, X)\n",
    "results = model.fit()\n",
    "\n",
    "print(results.summary())"
   ]
  },
  {
   "cell_type": "code",
   "execution_count": 71,
   "id": "f0cf83af",
   "metadata": {},
   "outputs": [
    {
     "name": "stdout",
     "output_type": "stream",
     "text": [
      "                            OLS Regression Results                            \n",
      "==============================================================================\n",
      "Dep. Variable:          sold_quantity   R-squared:                       0.012\n",
      "Model:                            OLS   Adj. R-squared:                  0.012\n",
      "Method:                 Least Squares   F-statistic:                     132.2\n",
      "Date:                Fri, 19 May 2023   Prob (F-statistic):           8.42e-58\n",
      "Time:                        19:17:25   Log-Likelihood:            -2.4709e+05\n",
      "No. Observations:               22354   AIC:                         4.942e+05\n",
      "Df Residuals:                   22351   BIC:                         4.942e+05\n",
      "Df Model:                           2                                         \n",
      "Covariance Type:            nonrobust                                         \n",
      "======================================================================================\n",
      "                         coef    std err          t      P>|t|      [0.025      0.975]\n",
      "--------------------------------------------------------------------------------------\n",
      "const               7354.7238    276.281     26.620      0.000    6813.194    7896.254\n",
      "salePriceU            -0.4899      0.030    -16.198      0.000      -0.549      -0.431\n",
      "positive_feedbacks     3.3839      3.504      0.966      0.334      -3.483      10.251\n",
      "==============================================================================\n",
      "Omnibus:                    18567.472   Durbin-Watson:                   1.046\n",
      "Prob(Omnibus):                  0.000   Jarque-Bera (JB):           383316.457\n",
      "Skew:                           4.081   Prob(JB):                         0.00\n",
      "Kurtosis:                      21.572   Cond. No.                     1.06e+04\n",
      "==============================================================================\n",
      "\n",
      "Notes:\n",
      "[1] Standard Errors assume that the covariance matrix of the errors is correctly specified.\n",
      "[2] The condition number is large, 1.06e+04. This might indicate that there are\n",
      "strong multicollinearity or other numerical problems.\n"
     ]
    }
   ],
   "source": [
    "import statsmodels.api as sm\n",
    "df_without_nan = df.dropna(subset=['positive_feedbacks'])\n",
    "\n",
    "y = df_without_nan[\"sold_quantity\"]\n",
    "\n",
    "X = df_without_nan[[\"salePriceU\", \"positive_feedbacks\"]]\n",
    "\n",
    "X = sm.add_constant(X)\n",
    "\n",
    "model = sm.OLS(y, X)\n",
    "results = model.fit()\n",
    "\n",
    "print(results.summary())"
   ]
  },
  {
   "cell_type": "code",
   "execution_count": 72,
   "id": "eecae8d4",
   "metadata": {},
   "outputs": [
    {
     "name": "stdout",
     "output_type": "stream",
     "text": [
      "                            OLS Regression Results                            \n",
      "==============================================================================\n",
      "Dep. Variable:          sold_quantity   R-squared:                       0.014\n",
      "Model:                            OLS   Adj. R-squared:                  0.014\n",
      "Method:                 Least Squares   F-statistic:                     162.5\n",
      "Date:                Fri, 19 May 2023   Prob (F-statistic):           8.48e-71\n",
      "Time:                        19:19:27   Log-Likelihood:            -2.4706e+05\n",
      "No. Observations:               22354   AIC:                         4.941e+05\n",
      "Df Residuals:                   22351   BIC:                         4.942e+05\n",
      "Df Model:                           2                                         \n",
      "Covariance Type:            nonrobust                                         \n",
      "======================================================================================\n",
      "                         coef    std err          t      P>|t|      [0.025      0.975]\n",
      "--------------------------------------------------------------------------------------\n",
      "const               9696.5783    207.483     46.734      0.000    9289.897    1.01e+04\n",
      "priceU                -0.1532      0.014    -11.161      0.000      -0.180      -0.126\n",
      "negative_feedbacks   -71.7347      5.228    -13.721      0.000     -81.982     -61.488\n",
      "==============================================================================\n",
      "Omnibus:                    18496.367   Durbin-Watson:                   1.051\n",
      "Prob(Omnibus):                  0.000   Jarque-Bera (JB):           380036.426\n",
      "Skew:                           4.058   Prob(JB):                         0.00\n",
      "Kurtosis:                      21.497   Cond. No.                     1.81e+04\n",
      "==============================================================================\n",
      "\n",
      "Notes:\n",
      "[1] Standard Errors assume that the covariance matrix of the errors is correctly specified.\n",
      "[2] The condition number is large, 1.81e+04. This might indicate that there are\n",
      "strong multicollinearity or other numerical problems.\n"
     ]
    }
   ],
   "source": [
    "# H3b\n",
    "import statsmodels.api as sm\n",
    "df_without_nan = df.dropna(subset=['negative_feedbacks'])\n",
    "\n",
    "y = df_without_nan[\"sold_quantity\"]\n",
    "\n",
    "X = df_without_nan[[\"priceU\", \"negative_feedbacks\"]]\n",
    "\n",
    "X = sm.add_constant(X)\n",
    "\n",
    "model = sm.OLS(y, X)\n",
    "results = model.fit()\n",
    "\n",
    "print(results.summary())"
   ]
  },
  {
   "cell_type": "code",
   "execution_count": 76,
   "id": "ce612d81",
   "metadata": {},
   "outputs": [
    {
     "name": "stdout",
     "output_type": "stream",
     "text": [
      "                            OLS Regression Results                            \n",
      "==============================================================================\n",
      "Dep. Variable:          sold_quantity   R-squared:                       0.019\n",
      "Model:                            OLS   Adj. R-squared:                  0.019\n",
      "Method:                 Least Squares   F-statistic:                     219.4\n",
      "Date:                Fri, 19 May 2023   Prob (F-statistic):           4.44e-95\n",
      "Time:                        19:23:01   Log-Likelihood:            -2.4701e+05\n",
      "No. Observations:               22354   AIC:                         4.940e+05\n",
      "Df Residuals:                   22351   BIC:                         4.940e+05\n",
      "Df Model:                           2                                         \n",
      "Covariance Type:            nonrobust                                         \n",
      "======================================================================================\n",
      "                         coef    std err          t      P>|t|      [0.025      0.975]\n",
      "--------------------------------------------------------------------------------------\n",
      "const               9781.8038    204.003     47.949      0.000    9381.945    1.02e+04\n",
      "salePriceU            -0.4649      0.030    -15.404      0.000      -0.524      -0.406\n",
      "negative_feedbacks   -68.7399      5.222    -13.163      0.000     -78.976     -58.504\n",
      "==============================================================================\n",
      "Omnibus:                    18543.023   Durbin-Watson:                   1.056\n",
      "Prob(Omnibus):                  0.000   Jarque-Bera (JB):           383844.085\n",
      "Skew:                           4.071   Prob(JB):                         0.00\n",
      "Kurtosis:                      21.596   Cond. No.                     7.88e+03\n",
      "==============================================================================\n",
      "\n",
      "Notes:\n",
      "[1] Standard Errors assume that the covariance matrix of the errors is correctly specified.\n",
      "[2] The condition number is large, 7.88e+03. This might indicate that there are\n",
      "strong multicollinearity or other numerical problems.\n"
     ]
    }
   ],
   "source": [
    "import statsmodels.api as sm\n",
    "df_without_nan = df.dropna(subset=['negative_feedbacks'])\n",
    "\n",
    "y = df_without_nan[\"sold_quantity\"]\n",
    "\n",
    "X = df_without_nan[[\"salePriceU\", \"negative_feedbacks\"]]\n",
    "\n",
    "X = sm.add_constant(X)\n",
    "\n",
    "model = sm.OLS(y, X)\n",
    "results = model.fit()\n",
    "\n",
    "print(results.summary())"
   ]
  },
  {
   "cell_type": "code",
   "execution_count": 78,
   "id": "fbb36022",
   "metadata": {},
   "outputs": [
    {
     "name": "stdout",
     "output_type": "stream",
     "text": [
      "Коэффициент корреляции Пирсона: 0.12\n",
      "p-значение: 0.0\n"
     ]
    }
   ],
   "source": [
    "# H4\n",
    "rating = df[\"rating\"]\n",
    "sales = df[\"sold_quantity\"]\n",
    "\n",
    "corr_coef, p_value = stats.pearsonr(rating, sales)\n",
    "\n",
    "print(\"Коэффициент корреляции Пирсона:\", round(corr_coef, 2))\n",
    "print(\"p-значение:\", round(p_value, 3))"
   ]
  },
  {
   "cell_type": "code",
   "execution_count": 80,
   "id": "f63b4704",
   "metadata": {},
   "outputs": [
    {
     "name": "stdout",
     "output_type": "stream",
     "text": [
      "t-статистика: -20.01\n",
      "p-значение: 0.0\n"
     ]
    }
   ],
   "source": [
    "# H4a\n",
    "filtered_df_group_1 = df[(df['rating'] >= 4) & (df['rating'] <= 4.7)]\n",
    "filtered_df_group_2 = df[(df['rating'] > 4.7)]\n",
    "\n",
    "group_1 = filtered_df_group_1['sold_quantity']\n",
    "group_2 = filtered_df_group_2['sold_quantity']\n",
    "\n",
    "t_statistic, p_value = stats.ttest_ind(group_1, group_2, equal_var=False)\n",
    "\n",
    "print(f\"t-статистика: {round(t_statistic, 2)}\")\n",
    "print(f\"p-значение: {round(p_value, 3)}\")"
   ]
  },
  {
   "cell_type": "code",
   "execution_count": 82,
   "id": "580c3ccb",
   "metadata": {},
   "outputs": [
    {
     "name": "stdout",
     "output_type": "stream",
     "text": [
      "Коэффициент корреляции Пирсона: -0.12\n",
      "p-значение: 0.0\n"
     ]
    }
   ],
   "source": [
    "# H5\n",
    "df_without_nan = df.dropna(subset=['brand_answers'])\n",
    "brand_answers = df_without_nan[\"brand_answers\"]\n",
    "sales = df_without_nan[\"sold_quantity\"]\n",
    "\n",
    "corr_coef, p_value = stats.pearsonr(brand_answers, sales)\n",
    "\n",
    "print(\"Коэффициент корреляции Пирсона:\", round(corr_coef, 2))\n",
    "print(\"p-значение:\", round(p_value, 3))"
   ]
  },
  {
   "cell_type": "code",
   "execution_count": 86,
   "id": "14090183",
   "metadata": {},
   "outputs": [
    {
     "name": "stdout",
     "output_type": "stream",
     "text": [
      "                            OLS Regression Results                            \n",
      "==============================================================================\n",
      "Dep. Variable:          sold_quantity   R-squared:                       0.014\n",
      "Model:                            OLS   Adj. R-squared:                  0.014\n",
      "Method:                 Least Squares   F-statistic:                     308.9\n",
      "Date:                Fri, 19 May 2023   Prob (F-statistic):           1.10e-68\n",
      "Time:                        20:28:32   Log-Likelihood:            -2.4707e+05\n",
      "No. Observations:               22354   AIC:                         4.941e+05\n",
      "Df Residuals:                   22352   BIC:                         4.942e+05\n",
      "Df Model:                           1                                         \n",
      "Covariance Type:            nonrobust                                         \n",
      "=================================================================================\n",
      "                    coef    std err          t      P>|t|      [0.025      0.975]\n",
      "---------------------------------------------------------------------------------\n",
      "const          9588.2152    197.849     48.462      0.000    9200.416    9976.014\n",
      "brand_answers   -38.7212      2.203    -17.575      0.000     -43.039     -34.403\n",
      "==============================================================================\n",
      "Omnibus:                    18440.146   Durbin-Watson:                   1.045\n",
      "Prob(Omnibus):                  0.000   Jarque-Bera (JB):           374530.323\n",
      "Skew:                           4.045   Prob(JB):                         0.00\n",
      "Kurtosis:                      21.349   Cond. No.                         174.\n",
      "==============================================================================\n",
      "\n",
      "Notes:\n",
      "[1] Standard Errors assume that the covariance matrix of the errors is correctly specified.\n"
     ]
    }
   ],
   "source": [
    "# H5a\n",
    "df_without_nan = df.dropna(subset=['brand_answers'])\n",
    "\n",
    "X = df_without_nan[['brand_answers', 'negative_feedbacks']]\n",
    "\n",
    "X = sm.add_constant(X)\n",
    "\n",
    "y = df_without_nan['sold_quantity'] \n",
    "\n",
    "model = sm.OLS(y, X)\n",
    "results = model.fit()\n",
    "\n",
    "print(results.summary())"
   ]
  },
  {
   "cell_type": "code",
   "execution_count": 89,
   "id": "bdd7941e",
   "metadata": {},
   "outputs": [
    {
     "name": "stdout",
     "output_type": "stream",
     "text": [
      "Коэффициент корреляции Пирсона: 0.27\n",
      "p-значение: 0.0\n"
     ]
    }
   ],
   "source": [
    "# H6\n",
    "df_without_nan = df.dropna(subset=['with_photos'])\n",
    "with_photos = df_without_nan[\"with_photos\"]\n",
    "sales = df_without_nan[\"sold_quantity\"]\n",
    "\n",
    "corr_coef, p_value = stats.pearsonr(with_photos, sales)\n",
    "\n",
    "print(\"Коэффициент корреляции Пирсона:\", round(corr_coef, 2))\n",
    "print(\"p-значение:\", round(p_value, 3))"
   ]
  },
  {
   "cell_type": "code",
   "execution_count": 91,
   "id": "98ea0e7f",
   "metadata": {},
   "outputs": [
    {
     "name": "stdout",
     "output_type": "stream",
     "text": [
      "coef = 0.43; p = 0.0 - Блузки и рубашки\n",
      "coef = 0.44; p = 0.0 - Брюки\n",
      "coef = 0.58; p = 0.0 - Верхняя одежда\n",
      "coef = 0.42; p = 0.0 - Джемперы, водолазки и кардиганы\n",
      "coef = 0.53; p = 0.0 - Джинсы\n",
      "coef = 0.45; p = 0.0 - Комбинезоны\n",
      "coef = 0.41; p = 0.0 - Костюмы\n",
      "coef = 0.36; p = 0.0 - Лонгсливы\n",
      "coef = 0.48; p = 0.0 - Пиджаки, жилеты и жакеты\n",
      "coef = 0.32; p = 0.0 - Платья и сарафаны\n",
      "coef = 0.43; p = 0.0 - Толстовки, свитшоты и худи\n",
      "coef = 0.35; p = 0.0 - Туники\n",
      "coef = 0.34; p = 0.0 - Футболки и топы\n",
      "coef = 0.09; p = 0.153 - Халаты\n",
      "coef = 0.1; p = 0.15 - Шорты\n",
      "coef = 0.19; p = 0.004 - Юбки\n",
      "coef = 0.23; p = 0.0 - Белье\n",
      "coef = 0.21; p = 0.0 - Большие размеры\n",
      "coef = 0.14; p = 0.0 - Будущие мамы\n",
      "coef = 0.24; p = 0.0 - Для высоких\n",
      "coef = 0.08; p = 0.213 - Для невысоких\n",
      "coef = 0.14; p = 0.0 - Одежда для дома\n",
      "coef = 0.11; p = 0.0 - Офис\n",
      "coef = 0.06; p = 0.13 - Пляжная мода\n",
      "coef = 0.2; p = 0.0 - Религиозная\n",
      "coef = 0.08; p = 0.003 - Свадьба\n"
     ]
    }
   ],
   "source": [
    "df_without_nan = df.dropna(subset=['with_photos'])\n",
    "\n",
    "for i in df_without_nan[\"category_name\"].unique():\n",
    "    df_category = df_without_nan[df_without_nan[\"category_name\"] == i]\n",
    "    with_photos = df_category[\"with_photos\"]\n",
    "    sales = df_category[\"sold_quantity\"]\n",
    "\n",
    "    corr_coef, p_value = stats.pearsonr(with_photos, sales)\n",
    "    print(f'coef = {round(corr_coef, 2)}; p = {round(p_value, 3)} - {i}')"
   ]
  }
 ],
 "metadata": {
  "kernelspec": {
   "display_name": "Python 3 (ipykernel)",
   "language": "python",
   "name": "python3"
  },
  "language_info": {
   "codemirror_mode": {
    "name": "ipython",
    "version": 3
   },
   "file_extension": ".py",
   "mimetype": "text/x-python",
   "name": "python",
   "nbconvert_exporter": "python",
   "pygments_lexer": "ipython3",
   "version": "3.9.13"
  }
 },
 "nbformat": 4,
 "nbformat_minor": 5
}
